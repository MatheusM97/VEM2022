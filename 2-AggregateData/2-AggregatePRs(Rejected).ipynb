{
 "cells": [
  {
   "cell_type": "code",
   "execution_count": 1,
   "metadata": {
    "colab": {
     "base_uri": "https://localhost:8080/"
    },
    "executionInfo": {
     "elapsed": 8387,
     "status": "ok",
     "timestamp": 1659214369041,
     "user": {
      "displayName": "Matheus M",
      "userId": "05134529566023456929"
     },
     "user_tz": 180
    },
    "id": "3ipUm4Pdj_Q0",
    "outputId": "f8a85204-cceb-4d51-8598-916eb2a52c95"
   },
   "outputs": [],
   "source": [
    "#pip install PyGithub"
   ]
  },
  {
   "cell_type": "code",
   "execution_count": 2,
   "metadata": {
    "executionInfo": {
     "elapsed": 670,
     "status": "ok",
     "timestamp": 1659214389882,
     "user": {
      "displayName": "Matheus M",
      "userId": "05134529566023456929"
     },
     "user_tz": 180
    },
    "id": "DyNO2BHCkG08"
   },
   "outputs": [],
   "source": [
    "import os\n",
    "import pandas as pd\n",
    "os.getcwd()\n",
    "from datetime import datetime"
   ]
  },
  {
   "cell_type": "code",
   "execution_count": 3,
   "metadata": {
    "executionInfo": {
     "elapsed": 1413,
     "status": "ok",
     "timestamp": 1659214811188,
     "user": {
      "displayName": "Matheus M",
      "userId": "05134529566023456929"
     },
     "user_tz": 180
    },
    "id": "7xOxU6sXkHck"
   },
   "outputs": [],
   "source": [
    "google = pd.read_csv(\"../1-ExtractDataPRs/Data2022/googlesamples2022.csv\")\n",
    "aws = pd.read_csv(\"../1-ExtractDataPRs/Data2022/aws2022.csv\")\n",
    "azure = pd.read_csv(\"../1-ExtractDataPRs/Data2022/azure2022.csv\")\n",
    "spring = pd.read_csv(\"../1-ExtractDataPRs/Data2022/spring-guides2022.csv\")"
   ]
  },
  {
   "cell_type": "code",
   "execution_count": 4,
   "metadata": {
    "executionInfo": {
     "elapsed": 2,
     "status": "ok",
     "timestamp": 1659214811856,
     "user": {
      "displayName": "Matheus M",
      "userId": "05134529566023456929"
     },
     "user_tz": 180
    },
    "id": "PzBPkbPByYrL"
   },
   "outputs": [],
   "source": [
    "google = google[(google[\"status\"] == \"closed\") & (google[\"merged\"] == False)] "
   ]
  },
  {
   "cell_type": "code",
   "execution_count": 5,
   "metadata": {
    "executionInfo": {
     "elapsed": 1,
     "status": "ok",
     "timestamp": 1659214812653,
     "user": {
      "displayName": "Matheus M",
      "userId": "05134529566023456929"
     },
     "user_tz": 180
    },
    "id": "pkUjskgh0MY7"
   },
   "outputs": [],
   "source": [
    "aws = aws[(aws[\"status\"] == \"closed\") & (aws[\"merged\"] == False)] "
   ]
  },
  {
   "cell_type": "code",
   "execution_count": 6,
   "metadata": {
    "executionInfo": {
     "elapsed": 2,
     "status": "ok",
     "timestamp": 1659214813138,
     "user": {
      "displayName": "Matheus M",
      "userId": "05134529566023456929"
     },
     "user_tz": 180
    },
    "id": "mXK_yrpL0PDC"
   },
   "outputs": [],
   "source": [
    "azure = azure[(azure[\"status\"] == \"closed\") & (azure[\"merged\"] == False)] "
   ]
  },
  {
   "cell_type": "code",
   "execution_count": 7,
   "metadata": {
    "executionInfo": {
     "elapsed": 1,
     "status": "ok",
     "timestamp": 1659214814133,
     "user": {
      "displayName": "Matheus M",
      "userId": "05134529566023456929"
     },
     "user_tz": 180
    },
    "id": "SKmTr5Jp0RP8"
   },
   "outputs": [],
   "source": [
    "spring = spring[(spring[\"status\"] == \"closed\") & (spring[\"merged\"] == False)] "
   ]
  },
  {
   "cell_type": "code",
   "execution_count": 8,
   "metadata": {
    "colab": {
     "base_uri": "https://localhost:8080/",
     "height": 887
    },
    "executionInfo": {
     "elapsed": 273,
     "status": "ok",
     "timestamp": 1659214814655,
     "user": {
      "displayName": "Matheus M",
      "userId": "05134529566023456929"
     },
     "user_tz": 180
    },
    "id": "R8ZW5mCJzvLP",
    "outputId": "d534d5df-aa64-49f9-e640-fc51e3428b09"
   },
   "outputs": [
    {
     "data": {
      "text/html": [
       "<div>\n",
       "<style scoped>\n",
       "    .dataframe tbody tr th:only-of-type {\n",
       "        vertical-align: middle;\n",
       "    }\n",
       "\n",
       "    .dataframe tbody tr th {\n",
       "        vertical-align: top;\n",
       "    }\n",
       "\n",
       "    .dataframe thead th {\n",
       "        text-align: right;\n",
       "    }\n",
       "</style>\n",
       "<table border=\"1\" class=\"dataframe\">\n",
       "  <thead>\n",
       "    <tr style=\"text-align: right;\">\n",
       "      <th></th>\n",
       "      <th>framework</th>\n",
       "      <th>sample</th>\n",
       "      <th>link</th>\n",
       "      <th>data de criação</th>\n",
       "      <th>data de fechamento</th>\n",
       "      <th>tempo para fechamento</th>\n",
       "      <th>tempo merge</th>\n",
       "      <th>data merge</th>\n",
       "      <th>data de atualização</th>\n",
       "      <th>merged</th>\n",
       "      <th>...</th>\n",
       "      <th>closed user email</th>\n",
       "      <th>closed user seguidores</th>\n",
       "      <th>total de reviews</th>\n",
       "      <th>revisores login</th>\n",
       "      <th>review approved user cargo</th>\n",
       "      <th>review approved user empresa</th>\n",
       "      <th>review approved user local</th>\n",
       "      <th>review approved user login</th>\n",
       "      <th>review approved user email</th>\n",
       "      <th>review approved user seguidores</th>\n",
       "    </tr>\n",
       "  </thead>\n",
       "  <tbody>\n",
       "    <tr>\n",
       "      <th>0</th>\n",
       "      <td>googlesamples</td>\n",
       "      <td>googlesamples/web-fundamentals</td>\n",
       "      <td>https://github.com/googlesamples/web-fundament...</td>\n",
       "      <td>2019-07-08 20:15:51</td>\n",
       "      <td>2020-08-14 11:30:29</td>\n",
       "      <td>402.0</td>\n",
       "      <td>NaN</td>\n",
       "      <td>NaN</td>\n",
       "      <td>2020-08-14 11:30:29</td>\n",
       "      <td>False</td>\n",
       "      <td>...</td>\n",
       "      <td>NaN</td>\n",
       "      <td>1.0</td>\n",
       "      <td>1.0</td>\n",
       "      <td>johyphenel</td>\n",
       "      <td>NaN</td>\n",
       "      <td>NaN</td>\n",
       "      <td>NaN</td>\n",
       "      <td>johyphenel</td>\n",
       "      <td>NaN</td>\n",
       "      <td>4.0</td>\n",
       "    </tr>\n",
       "    <tr>\n",
       "      <th>1</th>\n",
       "      <td>googlesamples</td>\n",
       "      <td>googlesamples/web-fundamentals</td>\n",
       "      <td>https://github.com/googlesamples/web-fundament...</td>\n",
       "      <td>2019-07-08 16:39:22</td>\n",
       "      <td>2019-07-08 17:52:29</td>\n",
       "      <td>0.0</td>\n",
       "      <td>NaN</td>\n",
       "      <td>NaN</td>\n",
       "      <td>2019-07-09 12:01:28</td>\n",
       "      <td>False</td>\n",
       "      <td>...</td>\n",
       "      <td>NaN</td>\n",
       "      <td>1.0</td>\n",
       "      <td>0.0</td>\n",
       "      <td>NaN</td>\n",
       "      <td>NaN</td>\n",
       "      <td>NaN</td>\n",
       "      <td>NaN</td>\n",
       "      <td>NaN</td>\n",
       "      <td>NaN</td>\n",
       "      <td>NaN</td>\n",
       "    </tr>\n",
       "    <tr>\n",
       "      <th>6</th>\n",
       "      <td>googlesamples</td>\n",
       "      <td>googlesamples/web-fundamentals</td>\n",
       "      <td>https://github.com/googlesamples/web-fundament...</td>\n",
       "      <td>2017-03-05 21:08:48</td>\n",
       "      <td>2017-03-05 21:14:21</td>\n",
       "      <td>0.0</td>\n",
       "      <td>NaN</td>\n",
       "      <td>NaN</td>\n",
       "      <td>2017-03-05 21:14:35</td>\n",
       "      <td>False</td>\n",
       "      <td>...</td>\n",
       "      <td>NaN</td>\n",
       "      <td>17.0</td>\n",
       "      <td>0.0</td>\n",
       "      <td>NaN</td>\n",
       "      <td>NaN</td>\n",
       "      <td>NaN</td>\n",
       "      <td>NaN</td>\n",
       "      <td>NaN</td>\n",
       "      <td>NaN</td>\n",
       "      <td>NaN</td>\n",
       "    </tr>\n",
       "    <tr>\n",
       "      <th>7</th>\n",
       "      <td>googlesamples</td>\n",
       "      <td>googlesamples/web-fundamentals</td>\n",
       "      <td>https://github.com/googlesamples/web-fundament...</td>\n",
       "      <td>2016-11-16 18:20:14</td>\n",
       "      <td>2016-11-16 20:51:20</td>\n",
       "      <td>0.0</td>\n",
       "      <td>NaN</td>\n",
       "      <td>NaN</td>\n",
       "      <td>2016-11-16 20:51:20</td>\n",
       "      <td>False</td>\n",
       "      <td>...</td>\n",
       "      <td>NaN</td>\n",
       "      <td>914.0</td>\n",
       "      <td>0.0</td>\n",
       "      <td>NaN</td>\n",
       "      <td>NaN</td>\n",
       "      <td>NaN</td>\n",
       "      <td>NaN</td>\n",
       "      <td>NaN</td>\n",
       "      <td>NaN</td>\n",
       "      <td>NaN</td>\n",
       "    </tr>\n",
       "    <tr>\n",
       "      <th>13</th>\n",
       "      <td>googlesamples</td>\n",
       "      <td>googlesamples/io2014-codelabs</td>\n",
       "      <td>https://github.com/googlesamples/io2014-codela...</td>\n",
       "      <td>2014-07-08 23:11:06</td>\n",
       "      <td>2014-07-09 00:59:32</td>\n",
       "      <td>0.0</td>\n",
       "      <td>NaN</td>\n",
       "      <td>NaN</td>\n",
       "      <td>2014-07-09 00:59:41</td>\n",
       "      <td>False</td>\n",
       "      <td>...</td>\n",
       "      <td>mike@mckoss.com</td>\n",
       "      <td>119.0</td>\n",
       "      <td>0.0</td>\n",
       "      <td>NaN</td>\n",
       "      <td>NaN</td>\n",
       "      <td>NaN</td>\n",
       "      <td>NaN</td>\n",
       "      <td>NaN</td>\n",
       "      <td>NaN</td>\n",
       "      <td>NaN</td>\n",
       "    </tr>\n",
       "    <tr>\n",
       "      <th>...</th>\n",
       "      <td>...</td>\n",
       "      <td>...</td>\n",
       "      <td>...</td>\n",
       "      <td>...</td>\n",
       "      <td>...</td>\n",
       "      <td>...</td>\n",
       "      <td>...</td>\n",
       "      <td>...</td>\n",
       "      <td>...</td>\n",
       "      <td>...</td>\n",
       "      <td>...</td>\n",
       "      <td>...</td>\n",
       "      <td>...</td>\n",
       "      <td>...</td>\n",
       "      <td>...</td>\n",
       "      <td>...</td>\n",
       "      <td>...</td>\n",
       "      <td>...</td>\n",
       "      <td>...</td>\n",
       "      <td>...</td>\n",
       "      <td>...</td>\n",
       "    </tr>\n",
       "    <tr>\n",
       "      <th>825</th>\n",
       "      <td>googlesamples</td>\n",
       "      <td>googlesamples/mlkit</td>\n",
       "      <td>https://github.com/googlesamples/mlkit/pull/2</td>\n",
       "      <td>2020-06-04 16:05:15</td>\n",
       "      <td>2020-06-04 16:06:21</td>\n",
       "      <td>0.0</td>\n",
       "      <td>NaN</td>\n",
       "      <td>NaN</td>\n",
       "      <td>2020-06-04 16:06:32</td>\n",
       "      <td>False</td>\n",
       "      <td>...</td>\n",
       "      <td>auabey@gmail.com</td>\n",
       "      <td>3.0</td>\n",
       "      <td>0.0</td>\n",
       "      <td>NaN</td>\n",
       "      <td>NaN</td>\n",
       "      <td>NaN</td>\n",
       "      <td>NaN</td>\n",
       "      <td>NaN</td>\n",
       "      <td>NaN</td>\n",
       "      <td>NaN</td>\n",
       "    </tr>\n",
       "    <tr>\n",
       "      <th>826</th>\n",
       "      <td>googlesamples</td>\n",
       "      <td>googlesamples/mlkit</td>\n",
       "      <td>https://github.com/googlesamples/mlkit/pull/1</td>\n",
       "      <td>2020-06-04 15:54:45</td>\n",
       "      <td>2020-06-04 15:55:52</td>\n",
       "      <td>0.0</td>\n",
       "      <td>NaN</td>\n",
       "      <td>NaN</td>\n",
       "      <td>2020-06-04 15:55:52</td>\n",
       "      <td>False</td>\n",
       "      <td>...</td>\n",
       "      <td>auabey@gmail.com</td>\n",
       "      <td>3.0</td>\n",
       "      <td>0.0</td>\n",
       "      <td>NaN</td>\n",
       "      <td>NaN</td>\n",
       "      <td>NaN</td>\n",
       "      <td>NaN</td>\n",
       "      <td>NaN</td>\n",
       "      <td>NaN</td>\n",
       "      <td>NaN</td>\n",
       "    </tr>\n",
       "    <tr>\n",
       "      <th>828</th>\n",
       "      <td>googlesamples</td>\n",
       "      <td>googlesamples/arcore-depth-lab</td>\n",
       "      <td>https://github.com/googlesamples/arcore-depth-...</td>\n",
       "      <td>2021-06-05 03:12:56</td>\n",
       "      <td>2021-09-16 06:58:09</td>\n",
       "      <td>103.0</td>\n",
       "      <td>NaN</td>\n",
       "      <td>NaN</td>\n",
       "      <td>2021-09-16 06:58:09</td>\n",
       "      <td>False</td>\n",
       "      <td>...</td>\n",
       "      <td>NaN</td>\n",
       "      <td>3.0</td>\n",
       "      <td>0.0</td>\n",
       "      <td>NaN</td>\n",
       "      <td>NaN</td>\n",
       "      <td>NaN</td>\n",
       "      <td>NaN</td>\n",
       "      <td>NaN</td>\n",
       "      <td>NaN</td>\n",
       "      <td>NaN</td>\n",
       "    </tr>\n",
       "    <tr>\n",
       "      <th>831</th>\n",
       "      <td>googlesamples</td>\n",
       "      <td>googlesamples/task-interop</td>\n",
       "      <td>https://github.com/googlesamples/task-interop/...</td>\n",
       "      <td>2020-11-18 21:38:00</td>\n",
       "      <td>2020-11-20 17:22:24</td>\n",
       "      <td>1.0</td>\n",
       "      <td>NaN</td>\n",
       "      <td>NaN</td>\n",
       "      <td>2020-11-20 17:22:31</td>\n",
       "      <td>False</td>\n",
       "      <td>...</td>\n",
       "      <td>NaN</td>\n",
       "      <td>3.0</td>\n",
       "      <td>0.0</td>\n",
       "      <td>NaN</td>\n",
       "      <td>NaN</td>\n",
       "      <td>NaN</td>\n",
       "      <td>NaN</td>\n",
       "      <td>NaN</td>\n",
       "      <td>NaN</td>\n",
       "      <td>NaN</td>\n",
       "    </tr>\n",
       "    <tr>\n",
       "      <th>832</th>\n",
       "      <td>googlesamples</td>\n",
       "      <td>googlesamples/task-interop</td>\n",
       "      <td>https://github.com/googlesamples/task-interop/...</td>\n",
       "      <td>2020-11-18 20:00:25</td>\n",
       "      <td>2020-11-18 21:34:32</td>\n",
       "      <td>0.0</td>\n",
       "      <td>NaN</td>\n",
       "      <td>NaN</td>\n",
       "      <td>2020-11-18 21:34:41</td>\n",
       "      <td>False</td>\n",
       "      <td>...</td>\n",
       "      <td>NaN</td>\n",
       "      <td>3.0</td>\n",
       "      <td>0.0</td>\n",
       "      <td>NaN</td>\n",
       "      <td>NaN</td>\n",
       "      <td>NaN</td>\n",
       "      <td>NaN</td>\n",
       "      <td>NaN</td>\n",
       "      <td>NaN</td>\n",
       "      <td>NaN</td>\n",
       "    </tr>\n",
       "  </tbody>\n",
       "</table>\n",
       "<p>164 rows × 40 columns</p>\n",
       "</div>"
      ],
      "text/plain": [
       "         framework                          sample  \\\n",
       "0    googlesamples  googlesamples/web-fundamentals   \n",
       "1    googlesamples  googlesamples/web-fundamentals   \n",
       "6    googlesamples  googlesamples/web-fundamentals   \n",
       "7    googlesamples  googlesamples/web-fundamentals   \n",
       "13   googlesamples   googlesamples/io2014-codelabs   \n",
       "..             ...                             ...   \n",
       "825  googlesamples             googlesamples/mlkit   \n",
       "826  googlesamples             googlesamples/mlkit   \n",
       "828  googlesamples  googlesamples/arcore-depth-lab   \n",
       "831  googlesamples      googlesamples/task-interop   \n",
       "832  googlesamples      googlesamples/task-interop   \n",
       "\n",
       "                                                  link      data de criação  \\\n",
       "0    https://github.com/googlesamples/web-fundament...  2019-07-08 20:15:51   \n",
       "1    https://github.com/googlesamples/web-fundament...  2019-07-08 16:39:22   \n",
       "6    https://github.com/googlesamples/web-fundament...  2017-03-05 21:08:48   \n",
       "7    https://github.com/googlesamples/web-fundament...  2016-11-16 18:20:14   \n",
       "13   https://github.com/googlesamples/io2014-codela...  2014-07-08 23:11:06   \n",
       "..                                                 ...                  ...   \n",
       "825      https://github.com/googlesamples/mlkit/pull/2  2020-06-04 16:05:15   \n",
       "826      https://github.com/googlesamples/mlkit/pull/1  2020-06-04 15:54:45   \n",
       "828  https://github.com/googlesamples/arcore-depth-...  2021-06-05 03:12:56   \n",
       "831  https://github.com/googlesamples/task-interop/...  2020-11-18 21:38:00   \n",
       "832  https://github.com/googlesamples/task-interop/...  2020-11-18 20:00:25   \n",
       "\n",
       "      data de fechamento  tempo para fechamento  tempo merge data merge  \\\n",
       "0    2020-08-14 11:30:29                  402.0          NaN        NaN   \n",
       "1    2019-07-08 17:52:29                    0.0          NaN        NaN   \n",
       "6    2017-03-05 21:14:21                    0.0          NaN        NaN   \n",
       "7    2016-11-16 20:51:20                    0.0          NaN        NaN   \n",
       "13   2014-07-09 00:59:32                    0.0          NaN        NaN   \n",
       "..                   ...                    ...          ...        ...   \n",
       "825  2020-06-04 16:06:21                    0.0          NaN        NaN   \n",
       "826  2020-06-04 15:55:52                    0.0          NaN        NaN   \n",
       "828  2021-09-16 06:58:09                  103.0          NaN        NaN   \n",
       "831  2020-11-20 17:22:24                    1.0          NaN        NaN   \n",
       "832  2020-11-18 21:34:32                    0.0          NaN        NaN   \n",
       "\n",
       "     data de atualização  merged  ... closed user email  \\\n",
       "0    2020-08-14 11:30:29   False  ...               NaN   \n",
       "1    2019-07-09 12:01:28   False  ...               NaN   \n",
       "6    2017-03-05 21:14:35   False  ...               NaN   \n",
       "7    2016-11-16 20:51:20   False  ...               NaN   \n",
       "13   2014-07-09 00:59:41   False  ...   mike@mckoss.com   \n",
       "..                   ...     ...  ...               ...   \n",
       "825  2020-06-04 16:06:32   False  ...  auabey@gmail.com   \n",
       "826  2020-06-04 15:55:52   False  ...  auabey@gmail.com   \n",
       "828  2021-09-16 06:58:09   False  ...               NaN   \n",
       "831  2020-11-20 17:22:31   False  ...               NaN   \n",
       "832  2020-11-18 21:34:41   False  ...               NaN   \n",
       "\n",
       "    closed user seguidores  total de reviews revisores login  \\\n",
       "0                      1.0               1.0      johyphenel   \n",
       "1                      1.0               0.0             NaN   \n",
       "6                     17.0               0.0             NaN   \n",
       "7                    914.0               0.0             NaN   \n",
       "13                   119.0               0.0             NaN   \n",
       "..                     ...               ...             ...   \n",
       "825                    3.0               0.0             NaN   \n",
       "826                    3.0               0.0             NaN   \n",
       "828                    3.0               0.0             NaN   \n",
       "831                    3.0               0.0             NaN   \n",
       "832                    3.0               0.0             NaN   \n",
       "\n",
       "    review approved user cargo review approved user empresa  \\\n",
       "0                          NaN                          NaN   \n",
       "1                          NaN                          NaN   \n",
       "6                          NaN                          NaN   \n",
       "7                          NaN                          NaN   \n",
       "13                         NaN                          NaN   \n",
       "..                         ...                          ...   \n",
       "825                        NaN                          NaN   \n",
       "826                        NaN                          NaN   \n",
       "828                        NaN                          NaN   \n",
       "831                        NaN                          NaN   \n",
       "832                        NaN                          NaN   \n",
       "\n",
       "    review approved user local  review approved user login  \\\n",
       "0                          NaN                  johyphenel   \n",
       "1                          NaN                         NaN   \n",
       "6                          NaN                         NaN   \n",
       "7                          NaN                         NaN   \n",
       "13                         NaN                         NaN   \n",
       "..                         ...                         ...   \n",
       "825                        NaN                         NaN   \n",
       "826                        NaN                         NaN   \n",
       "828                        NaN                         NaN   \n",
       "831                        NaN                         NaN   \n",
       "832                        NaN                         NaN   \n",
       "\n",
       "     review approved user email  review approved user seguidores  \n",
       "0                           NaN                              4.0  \n",
       "1                           NaN                              NaN  \n",
       "6                           NaN                              NaN  \n",
       "7                           NaN                              NaN  \n",
       "13                          NaN                              NaN  \n",
       "..                          ...                              ...  \n",
       "825                         NaN                              NaN  \n",
       "826                         NaN                              NaN  \n",
       "828                         NaN                              NaN  \n",
       "831                         NaN                              NaN  \n",
       "832                         NaN                              NaN  \n",
       "\n",
       "[164 rows x 40 columns]"
      ]
     },
     "execution_count": 8,
     "metadata": {},
     "output_type": "execute_result"
    }
   ],
   "source": [
    "google"
   ]
  },
  {
   "cell_type": "code",
   "execution_count": 9,
   "metadata": {
    "colab": {
     "base_uri": "https://localhost:8080/",
     "height": 939
    },
    "executionInfo": {
     "elapsed": 390,
     "status": "ok",
     "timestamp": 1659214816832,
     "user": {
      "displayName": "Matheus M",
      "userId": "05134529566023456929"
     },
     "user_tz": 180
    },
    "id": "BpOhKmjW3shd",
    "outputId": "8e1761c2-7ea8-43fe-f03e-139eaa815a8e"
   },
   "outputs": [
    {
     "data": {
      "text/html": [
       "<div>\n",
       "<style scoped>\n",
       "    .dataframe tbody tr th:only-of-type {\n",
       "        vertical-align: middle;\n",
       "    }\n",
       "\n",
       "    .dataframe tbody tr th {\n",
       "        vertical-align: top;\n",
       "    }\n",
       "\n",
       "    .dataframe thead th {\n",
       "        text-align: right;\n",
       "    }\n",
       "</style>\n",
       "<table border=\"1\" class=\"dataframe\">\n",
       "  <thead>\n",
       "    <tr style=\"text-align: right;\">\n",
       "      <th></th>\n",
       "      <th>framework</th>\n",
       "      <th>sample</th>\n",
       "      <th>link</th>\n",
       "      <th>data de criação</th>\n",
       "      <th>data de fechamento</th>\n",
       "      <th>tempo para fechamento</th>\n",
       "      <th>tempo merge</th>\n",
       "      <th>data merge</th>\n",
       "      <th>data de atualização</th>\n",
       "      <th>merged</th>\n",
       "      <th>...</th>\n",
       "      <th>closed user email</th>\n",
       "      <th>closed user seguidores</th>\n",
       "      <th>total de reviews</th>\n",
       "      <th>revisores login</th>\n",
       "      <th>review approved user cargo</th>\n",
       "      <th>review approved user empresa</th>\n",
       "      <th>review approved user local</th>\n",
       "      <th>review approved user login</th>\n",
       "      <th>review approved user email</th>\n",
       "      <th>review approved user seguidores</th>\n",
       "    </tr>\n",
       "  </thead>\n",
       "  <tbody>\n",
       "    <tr>\n",
       "      <th>4</th>\n",
       "      <td>aws-samples</td>\n",
       "      <td>aws-samples/opsworks-example-cookbooks</td>\n",
       "      <td>https://github.com/aws-samples/opsworks-exampl...</td>\n",
       "      <td>2016-03-22 12:43:30</td>\n",
       "      <td>2016-05-14 09:59:33</td>\n",
       "      <td>52.0</td>\n",
       "      <td>NaN</td>\n",
       "      <td>NaN</td>\n",
       "      <td>2016-05-14 09:59:33</td>\n",
       "      <td>False</td>\n",
       "      <td>...</td>\n",
       "      <td>NaN</td>\n",
       "      <td>0.0</td>\n",
       "      <td>0.0</td>\n",
       "      <td>NaN</td>\n",
       "      <td>NaN</td>\n",
       "      <td>NaN</td>\n",
       "      <td>NaN</td>\n",
       "      <td>NaN</td>\n",
       "      <td>NaN</td>\n",
       "      <td>NaN</td>\n",
       "    </tr>\n",
       "    <tr>\n",
       "      <th>11</th>\n",
       "      <td>aws-samples</td>\n",
       "      <td>aws-samples/opsworks-demo-php-simple-app</td>\n",
       "      <td>https://github.com/aws-samples/opsworks-demo-p...</td>\n",
       "      <td>2016-08-24 07:44:48</td>\n",
       "      <td>2020-09-16 08:08:38</td>\n",
       "      <td>1484.0</td>\n",
       "      <td>NaN</td>\n",
       "      <td>NaN</td>\n",
       "      <td>2020-09-16 08:08:38</td>\n",
       "      <td>False</td>\n",
       "      <td>...</td>\n",
       "      <td>sharifmk786@gmail.com</td>\n",
       "      <td>2.0</td>\n",
       "      <td>0.0</td>\n",
       "      <td>NaN</td>\n",
       "      <td>NaN</td>\n",
       "      <td>NaN</td>\n",
       "      <td>NaN</td>\n",
       "      <td>NaN</td>\n",
       "      <td>NaN</td>\n",
       "      <td>NaN</td>\n",
       "    </tr>\n",
       "    <tr>\n",
       "      <th>52</th>\n",
       "      <td>aws-samples</td>\n",
       "      <td>aws-samples/aws-dynamodb-examples</td>\n",
       "      <td>https://github.com/aws-samples/aws-dynamodb-ex...</td>\n",
       "      <td>2021-06-09 19:13:42</td>\n",
       "      <td>2021-06-15 15:09:21</td>\n",
       "      <td>5.0</td>\n",
       "      <td>NaN</td>\n",
       "      <td>NaN</td>\n",
       "      <td>2021-07-07 20:02:19</td>\n",
       "      <td>False</td>\n",
       "      <td>...</td>\n",
       "      <td>NaN</td>\n",
       "      <td>3.0</td>\n",
       "      <td>0.0</td>\n",
       "      <td>NaN</td>\n",
       "      <td>NaN</td>\n",
       "      <td>NaN</td>\n",
       "      <td>NaN</td>\n",
       "      <td>NaN</td>\n",
       "      <td>NaN</td>\n",
       "      <td>NaN</td>\n",
       "    </tr>\n",
       "    <tr>\n",
       "      <th>64</th>\n",
       "      <td>aws-samples</td>\n",
       "      <td>aws-samples/aws-dynamodb-examples</td>\n",
       "      <td>https://github.com/aws-samples/aws-dynamodb-ex...</td>\n",
       "      <td>2017-11-08 15:16:36</td>\n",
       "      <td>2017-11-08 15:22:13</td>\n",
       "      <td>0.0</td>\n",
       "      <td>NaN</td>\n",
       "      <td>NaN</td>\n",
       "      <td>2018-10-08 19:20:53</td>\n",
       "      <td>False</td>\n",
       "      <td>...</td>\n",
       "      <td>thomas@poindessous.com</td>\n",
       "      <td>12.0</td>\n",
       "      <td>0.0</td>\n",
       "      <td>NaN</td>\n",
       "      <td>NaN</td>\n",
       "      <td>NaN</td>\n",
       "      <td>NaN</td>\n",
       "      <td>NaN</td>\n",
       "      <td>NaN</td>\n",
       "      <td>NaN</td>\n",
       "    </tr>\n",
       "    <tr>\n",
       "      <th>65</th>\n",
       "      <td>aws-samples</td>\n",
       "      <td>aws-samples/aws-dynamodb-examples</td>\n",
       "      <td>https://github.com/aws-samples/aws-dynamodb-ex...</td>\n",
       "      <td>2017-07-25 06:32:12</td>\n",
       "      <td>2021-03-18 18:07:16</td>\n",
       "      <td>1332.0</td>\n",
       "      <td>NaN</td>\n",
       "      <td>NaN</td>\n",
       "      <td>2021-03-18 18:08:02</td>\n",
       "      <td>False</td>\n",
       "      <td>...</td>\n",
       "      <td>NaN</td>\n",
       "      <td>13.0</td>\n",
       "      <td>0.0</td>\n",
       "      <td>NaN</td>\n",
       "      <td>NaN</td>\n",
       "      <td>NaN</td>\n",
       "      <td>NaN</td>\n",
       "      <td>NaN</td>\n",
       "      <td>NaN</td>\n",
       "      <td>NaN</td>\n",
       "    </tr>\n",
       "    <tr>\n",
       "      <th>...</th>\n",
       "      <td>...</td>\n",
       "      <td>...</td>\n",
       "      <td>...</td>\n",
       "      <td>...</td>\n",
       "      <td>...</td>\n",
       "      <td>...</td>\n",
       "      <td>...</td>\n",
       "      <td>...</td>\n",
       "      <td>...</td>\n",
       "      <td>...</td>\n",
       "      <td>...</td>\n",
       "      <td>...</td>\n",
       "      <td>...</td>\n",
       "      <td>...</td>\n",
       "      <td>...</td>\n",
       "      <td>...</td>\n",
       "      <td>...</td>\n",
       "      <td>...</td>\n",
       "      <td>...</td>\n",
       "      <td>...</td>\n",
       "      <td>...</td>\n",
       "    </tr>\n",
       "    <tr>\n",
       "      <th>33981</th>\n",
       "      <td>aws-samples</td>\n",
       "      <td>aws-samples/aws-proton-terraform-github-action...</td>\n",
       "      <td>https://github.com/aws-samples/aws-proton-terr...</td>\n",
       "      <td>2021-12-10 06:22:57</td>\n",
       "      <td>2021-12-10 06:23:17</td>\n",
       "      <td>0.0</td>\n",
       "      <td>NaN</td>\n",
       "      <td>NaN</td>\n",
       "      <td>2021-12-10 06:23:17</td>\n",
       "      <td>False</td>\n",
       "      <td>...</td>\n",
       "      <td>NaN</td>\n",
       "      <td>14.0</td>\n",
       "      <td>0.0</td>\n",
       "      <td>NaN</td>\n",
       "      <td>NaN</td>\n",
       "      <td>NaN</td>\n",
       "      <td>NaN</td>\n",
       "      <td>NaN</td>\n",
       "      <td>NaN</td>\n",
       "      <td>NaN</td>\n",
       "    </tr>\n",
       "    <tr>\n",
       "      <th>33994</th>\n",
       "      <td>aws-samples</td>\n",
       "      <td>aws-samples/aws-stepfunctions-choreography-mon...</td>\n",
       "      <td>https://github.com/aws-samples/aws-stepfunctio...</td>\n",
       "      <td>2021-12-09 12:41:09</td>\n",
       "      <td>2021-12-22 10:45:12</td>\n",
       "      <td>12.0</td>\n",
       "      <td>NaN</td>\n",
       "      <td>NaN</td>\n",
       "      <td>2021-12-22 10:45:12</td>\n",
       "      <td>False</td>\n",
       "      <td>...</td>\n",
       "      <td>NaN</td>\n",
       "      <td>0.0</td>\n",
       "      <td>0.0</td>\n",
       "      <td>NaN</td>\n",
       "      <td>NaN</td>\n",
       "      <td>NaN</td>\n",
       "      <td>NaN</td>\n",
       "      <td>NaN</td>\n",
       "      <td>NaN</td>\n",
       "      <td>NaN</td>\n",
       "    </tr>\n",
       "    <tr>\n",
       "      <th>34003</th>\n",
       "      <td>aws-samples</td>\n",
       "      <td>aws-samples/amazon-sagemaker-studio-secure-sso</td>\n",
       "      <td>https://github.com/aws-samples/amazon-sagemake...</td>\n",
       "      <td>2021-12-18 19:38:02</td>\n",
       "      <td>2021-12-18 19:39:53</td>\n",
       "      <td>0.0</td>\n",
       "      <td>NaN</td>\n",
       "      <td>NaN</td>\n",
       "      <td>2021-12-18 19:39:54</td>\n",
       "      <td>False</td>\n",
       "      <td>...</td>\n",
       "      <td>NaN</td>\n",
       "      <td>0.0</td>\n",
       "      <td>0.0</td>\n",
       "      <td>NaN</td>\n",
       "      <td>NaN</td>\n",
       "      <td>NaN</td>\n",
       "      <td>NaN</td>\n",
       "      <td>NaN</td>\n",
       "      <td>NaN</td>\n",
       "      <td>NaN</td>\n",
       "    </tr>\n",
       "    <tr>\n",
       "      <th>34009</th>\n",
       "      <td>aws-samples</td>\n",
       "      <td>aws-samples/kubernetes-log4j-cve-2021-44228-no...</td>\n",
       "      <td>https://github.com/aws-samples/kubernetes-log4...</td>\n",
       "      <td>2021-12-30 11:58:55</td>\n",
       "      <td>2022-01-05 19:57:40</td>\n",
       "      <td>6.0</td>\n",
       "      <td>NaN</td>\n",
       "      <td>NaN</td>\n",
       "      <td>2022-01-05 19:57:40</td>\n",
       "      <td>False</td>\n",
       "      <td>...</td>\n",
       "      <td>NaN</td>\n",
       "      <td>49.0</td>\n",
       "      <td>0.0</td>\n",
       "      <td>NaN</td>\n",
       "      <td>NaN</td>\n",
       "      <td>NaN</td>\n",
       "      <td>NaN</td>\n",
       "      <td>NaN</td>\n",
       "      <td>NaN</td>\n",
       "      <td>NaN</td>\n",
       "    </tr>\n",
       "    <tr>\n",
       "      <th>34029</th>\n",
       "      <td>aws-samples</td>\n",
       "      <td>aws-samples/cdk-hyperledger-fabric-network</td>\n",
       "      <td>https://github.com/aws-samples/cdk-hyperledger...</td>\n",
       "      <td>2022-01-05 00:03:46</td>\n",
       "      <td>2022-01-05 03:56:45</td>\n",
       "      <td>0.0</td>\n",
       "      <td>NaN</td>\n",
       "      <td>NaN</td>\n",
       "      <td>2022-01-05 04:37:52</td>\n",
       "      <td>False</td>\n",
       "      <td>...</td>\n",
       "      <td>judson.neer@gmail.com</td>\n",
       "      <td>17.0</td>\n",
       "      <td>0.0</td>\n",
       "      <td>NaN</td>\n",
       "      <td>NaN</td>\n",
       "      <td>NaN</td>\n",
       "      <td>NaN</td>\n",
       "      <td>NaN</td>\n",
       "      <td>NaN</td>\n",
       "      <td>NaN</td>\n",
       "    </tr>\n",
       "  </tbody>\n",
       "</table>\n",
       "<p>11013 rows × 40 columns</p>\n",
       "</div>"
      ],
      "text/plain": [
       "         framework                                             sample  \\\n",
       "4      aws-samples             aws-samples/opsworks-example-cookbooks   \n",
       "11     aws-samples           aws-samples/opsworks-demo-php-simple-app   \n",
       "52     aws-samples                  aws-samples/aws-dynamodb-examples   \n",
       "64     aws-samples                  aws-samples/aws-dynamodb-examples   \n",
       "65     aws-samples                  aws-samples/aws-dynamodb-examples   \n",
       "...            ...                                                ...   \n",
       "33981  aws-samples  aws-samples/aws-proton-terraform-github-action...   \n",
       "33994  aws-samples  aws-samples/aws-stepfunctions-choreography-mon...   \n",
       "34003  aws-samples     aws-samples/amazon-sagemaker-studio-secure-sso   \n",
       "34009  aws-samples  aws-samples/kubernetes-log4j-cve-2021-44228-no...   \n",
       "34029  aws-samples         aws-samples/cdk-hyperledger-fabric-network   \n",
       "\n",
       "                                                    link      data de criação  \\\n",
       "4      https://github.com/aws-samples/opsworks-exampl...  2016-03-22 12:43:30   \n",
       "11     https://github.com/aws-samples/opsworks-demo-p...  2016-08-24 07:44:48   \n",
       "52     https://github.com/aws-samples/aws-dynamodb-ex...  2021-06-09 19:13:42   \n",
       "64     https://github.com/aws-samples/aws-dynamodb-ex...  2017-11-08 15:16:36   \n",
       "65     https://github.com/aws-samples/aws-dynamodb-ex...  2017-07-25 06:32:12   \n",
       "...                                                  ...                  ...   \n",
       "33981  https://github.com/aws-samples/aws-proton-terr...  2021-12-10 06:22:57   \n",
       "33994  https://github.com/aws-samples/aws-stepfunctio...  2021-12-09 12:41:09   \n",
       "34003  https://github.com/aws-samples/amazon-sagemake...  2021-12-18 19:38:02   \n",
       "34009  https://github.com/aws-samples/kubernetes-log4...  2021-12-30 11:58:55   \n",
       "34029  https://github.com/aws-samples/cdk-hyperledger...  2022-01-05 00:03:46   \n",
       "\n",
       "        data de fechamento  tempo para fechamento  tempo merge data merge  \\\n",
       "4      2016-05-14 09:59:33                   52.0          NaN        NaN   \n",
       "11     2020-09-16 08:08:38                 1484.0          NaN        NaN   \n",
       "52     2021-06-15 15:09:21                    5.0          NaN        NaN   \n",
       "64     2017-11-08 15:22:13                    0.0          NaN        NaN   \n",
       "65     2021-03-18 18:07:16                 1332.0          NaN        NaN   \n",
       "...                    ...                    ...          ...        ...   \n",
       "33981  2021-12-10 06:23:17                    0.0          NaN        NaN   \n",
       "33994  2021-12-22 10:45:12                   12.0          NaN        NaN   \n",
       "34003  2021-12-18 19:39:53                    0.0          NaN        NaN   \n",
       "34009  2022-01-05 19:57:40                    6.0          NaN        NaN   \n",
       "34029  2022-01-05 03:56:45                    0.0          NaN        NaN   \n",
       "\n",
       "       data de atualização  merged  ...       closed user email  \\\n",
       "4      2016-05-14 09:59:33   False  ...                     NaN   \n",
       "11     2020-09-16 08:08:38   False  ...   sharifmk786@gmail.com   \n",
       "52     2021-07-07 20:02:19   False  ...                     NaN   \n",
       "64     2018-10-08 19:20:53   False  ...  thomas@poindessous.com   \n",
       "65     2021-03-18 18:08:02   False  ...                     NaN   \n",
       "...                    ...     ...  ...                     ...   \n",
       "33981  2021-12-10 06:23:17   False  ...                     NaN   \n",
       "33994  2021-12-22 10:45:12   False  ...                     NaN   \n",
       "34003  2021-12-18 19:39:54   False  ...                     NaN   \n",
       "34009  2022-01-05 19:57:40   False  ...                     NaN   \n",
       "34029  2022-01-05 04:37:52   False  ...   judson.neer@gmail.com   \n",
       "\n",
       "      closed user seguidores  total de reviews revisores login  \\\n",
       "4                        0.0               0.0             NaN   \n",
       "11                       2.0               0.0             NaN   \n",
       "52                       3.0               0.0             NaN   \n",
       "64                      12.0               0.0             NaN   \n",
       "65                      13.0               0.0             NaN   \n",
       "...                      ...               ...             ...   \n",
       "33981                   14.0               0.0             NaN   \n",
       "33994                    0.0               0.0             NaN   \n",
       "34003                    0.0               0.0             NaN   \n",
       "34009                   49.0               0.0             NaN   \n",
       "34029                   17.0               0.0             NaN   \n",
       "\n",
       "      review approved user cargo review approved user empresa  \\\n",
       "4                            NaN                          NaN   \n",
       "11                           NaN                          NaN   \n",
       "52                           NaN                          NaN   \n",
       "64                           NaN                          NaN   \n",
       "65                           NaN                          NaN   \n",
       "...                          ...                          ...   \n",
       "33981                        NaN                          NaN   \n",
       "33994                        NaN                          NaN   \n",
       "34003                        NaN                          NaN   \n",
       "34009                        NaN                          NaN   \n",
       "34029                        NaN                          NaN   \n",
       "\n",
       "      review approved user local  review approved user login  \\\n",
       "4                            NaN                         NaN   \n",
       "11                           NaN                         NaN   \n",
       "52                           NaN                         NaN   \n",
       "64                           NaN                         NaN   \n",
       "65                           NaN                         NaN   \n",
       "...                          ...                         ...   \n",
       "33981                        NaN                         NaN   \n",
       "33994                        NaN                         NaN   \n",
       "34003                        NaN                         NaN   \n",
       "34009                        NaN                         NaN   \n",
       "34029                        NaN                         NaN   \n",
       "\n",
       "       review approved user email  review approved user seguidores  \n",
       "4                             NaN                              NaN  \n",
       "11                            NaN                              NaN  \n",
       "52                            NaN                              NaN  \n",
       "64                            NaN                              NaN  \n",
       "65                            NaN                              NaN  \n",
       "...                           ...                              ...  \n",
       "33981                         NaN                              NaN  \n",
       "33994                         NaN                              NaN  \n",
       "34003                         NaN                              NaN  \n",
       "34009                         NaN                              NaN  \n",
       "34029                         NaN                              NaN  \n",
       "\n",
       "[11013 rows x 40 columns]"
      ]
     },
     "execution_count": 9,
     "metadata": {},
     "output_type": "execute_result"
    }
   ],
   "source": [
    "aws"
   ]
  },
  {
   "cell_type": "code",
   "execution_count": 10,
   "metadata": {
    "executionInfo": {
     "elapsed": 263,
     "status": "ok",
     "timestamp": 1659214818079,
     "user": {
      "displayName": "Matheus M",
      "userId": "05134529566023456929"
     },
     "user_tz": 180
    },
    "id": "k3erKrBZzq5P"
   },
   "outputs": [],
   "source": [
    "googleColaboradores = pd.read_csv(\"../2-AggregateData/googleMaintainers_exclude_internal_pulls.csv\")\n",
    "awsColaboradores = pd.read_csv(\"../2-AggregateData/awsMaintainers_exclude_internal_pulls.csv\")\n",
    "azureColaboradores = pd.read_csv(\"../2-AggregateData/azureMaintainers_exclude_internal_pulls.csv\")\n",
    "springColaboradores = pd.read_csv(\"../2-AggregateData/springMaintainers_exclude_internal_pulls.csv\")"
   ]
  },
  {
   "cell_type": "code",
   "execution_count": 11,
   "metadata": {
    "executionInfo": {
     "elapsed": 2,
     "status": "ok",
     "timestamp": 1659214819174,
     "user": {
      "displayName": "Matheus M",
      "userId": "05134529566023456929"
     },
     "user_tz": 180
    },
    "id": "HjSzQAMJz4Da"
   },
   "outputs": [],
   "source": [
    "def remove_internal_pull_requests(pulls, maintainers):\n",
    "  unique_maintainers = maintainers[\"login\"].unique()\n",
    "  last_index = pulls.index[-1]\n",
    "  for index in pulls.index:\n",
    "    #print(index, last_index)\n",
    "    line = pulls.loc[index]\n",
    "    creator = line[\"creator user login\"]\n",
    "    if creator in unique_maintainers:\n",
    "      pulls.drop(index, inplace=True)"
   ]
  },
  {
   "cell_type": "code",
   "execution_count": 12,
   "metadata": {
    "colab": {
     "base_uri": "https://localhost:8080/"
    },
    "executionInfo": {
     "elapsed": 47715,
     "status": "ok",
     "timestamp": 1659214868273,
     "user": {
      "displayName": "Matheus M",
      "userId": "05134529566023456929"
     },
     "user_tz": 180
    },
    "id": "bp5srP9wz9Tq",
    "outputId": "ecaffad7-5e93-4c35-e5af-6351f7e4caed"
   },
   "outputs": [],
   "source": [
    "remove_internal_pull_requests(google, googleColaboradores)\n",
    "remove_internal_pull_requests(spring, springColaboradores)\n",
    "remove_internal_pull_requests(aws, awsColaboradores)\n",
    "remove_internal_pull_requests(azure, azureColaboradores)"
   ]
  },
  {
   "cell_type": "code",
   "execution_count": 13,
   "metadata": {
    "executionInfo": {
     "elapsed": 4,
     "status": "ok",
     "timestamp": 1659214868273,
     "user": {
      "displayName": "Matheus M",
      "userId": "05134529566023456929"
     },
     "user_tz": 180
    },
    "id": "0wKKTZ1e0CRj"
   },
   "outputs": [],
   "source": [
    "def remove_auto_closed(pulls):\n",
    "  last_index = pulls.index[-1]\n",
    "  for index in pulls.index:\n",
    "    #print(index, last_index)\n",
    "    line = pulls.loc[index]\n",
    "    if (line[\"creator user login\"] == line[\"closed user login\"]):\n",
    "      pulls.drop(index, inplace=True)"
   ]
  },
  {
   "cell_type": "code",
   "execution_count": 14,
   "metadata": {
    "colab": {
     "base_uri": "https://localhost:8080/"
    },
    "executionInfo": {
     "elapsed": 6873,
     "status": "ok",
     "timestamp": 1659214875143,
     "user": {
      "displayName": "Matheus M",
      "userId": "05134529566023456929"
     },
     "user_tz": 180
    },
    "id": "-S7m8Fip0EW1",
    "outputId": "6a94489a-c342-4137-c87f-fac4ae3dc921"
   },
   "outputs": [],
   "source": [
    "remove_auto_closed(google)\n",
    "remove_auto_closed(spring)\n",
    "remove_auto_closed(aws)\n",
    "remove_auto_closed(azure)"
   ]
  },
  {
   "cell_type": "code",
   "execution_count": 15,
   "metadata": {
    "executionInfo": {
     "elapsed": 3,
     "status": "ok",
     "timestamp": 1659214875143,
     "user": {
      "displayName": "Matheus M",
      "userId": "05134529566023456929"
     },
     "user_tz": 180
    },
    "id": "OvzaVzR-kszM"
   },
   "outputs": [],
   "source": [
    "def set_index(dataframe):\n",
    "  dataframe.set_index(dataframe[\"sample\"], inplace=True)\n",
    "  del dataframe[\"sample\"]"
   ]
  },
  {
   "cell_type": "code",
   "execution_count": 16,
   "metadata": {
    "executionInfo": {
     "elapsed": 3,
     "status": "ok",
     "timestamp": 1659214875143,
     "user": {
      "displayName": "Matheus M",
      "userId": "05134529566023456929"
     },
     "user_tz": 180
    },
    "id": "nVaB1FFmktVg"
   },
   "outputs": [],
   "source": [
    "set_index(google)\n",
    "set_index(aws)\n",
    "set_index(azure)\n",
    "set_index(spring)"
   ]
  },
  {
   "cell_type": "code",
   "execution_count": 17,
   "metadata": {
    "executionInfo": {
     "elapsed": 384,
     "status": "ok",
     "timestamp": 1659214875525,
     "user": {
      "displayName": "Matheus M",
      "userId": "05134529566023456929"
     },
     "user_tz": 180
    },
    "id": "GD4EaEXxk4d8"
   },
   "outputs": [],
   "source": [
    "def calculate_stats(dataframe):\n",
    "  for sample in dataframe.index.unique():\n",
    "    aux = dataframe.loc[[sample]]\n",
    "    dataframe.loc[sample, \"closed_count\"] = aux[aux[\"status\"] == \"closed\"][\"framework\"].count()\n",
    "    #dataframe.loc[sample, \"open_count\"] = aux[aux[\"status\"] == \"open\"][\"framework\"].count()\n",
    "    dataframe.loc[sample, \"merged_count\"] = aux[aux[\"merged\"] == True][\"framework\"].count()\n",
    "    aux2 = aux[aux[\"status\"] == \"closed\"]\n",
    "    dataframe.loc[sample, \"not_merged_count\"] = aux2[aux2[\"merged\"] == False][\"framework\"].count()"
   ]
  },
  {
   "cell_type": "code",
   "execution_count": 18,
   "metadata": {
    "executionInfo": {
     "elapsed": 1738,
     "status": "ok",
     "timestamp": 1659214877262,
     "user": {
      "displayName": "Matheus M",
      "userId": "05134529566023456929"
     },
     "user_tz": 180
    },
    "id": "lKqyLYgLlAjj"
   },
   "outputs": [],
   "source": [
    "calculate_stats(google)\n",
    "calculate_stats(aws)\n",
    "calculate_stats(azure)\n",
    "calculate_stats(spring)"
   ]
  },
  {
   "cell_type": "code",
   "execution_count": 19,
   "metadata": {
    "executionInfo": {
     "elapsed": 13,
     "status": "ok",
     "timestamp": 1659214877263,
     "user": {
      "displayName": "Matheus M",
      "userId": "05134529566023456929"
     },
     "user_tz": 180
    },
    "id": "FKPOB9kf11Kr"
   },
   "outputs": [],
   "source": [
    "def aggregate(dataframe, framework):\n",
    "    dataframe[\"framework\"] = framework\n",
    "    del dataframe[\"merge user cargo\"]\n",
    "    del dataframe[\"merged\"]\n",
    "    del dataframe[\"merge user seguidores\"]\n",
    "    del dataframe[\"merge user tempo no GitHub\"]\n",
    "    del dataframe[\"creator user cargo\"]\n",
    "    del dataframe[\"creator user seguidores\"]\n",
    "    del dataframe[\"creator user tempo no GitHub\"]\n",
    "    del dataframe[\"closed user cargo\"]\n",
    "    del dataframe[\"closed user seguidores\"]\n",
    "    del dataframe[\"total de reviews\"]\n",
    "    del dataframe[\"review approved user cargo\"]\n",
    "    del dataframe[\"review approved user seguidores\"]\n",
    "    dataframe = dataframe.groupby(by=\"sample\").mean()\n",
    "    \n",
    "    return dataframe"
   ]
  },
  {
   "cell_type": "code",
   "execution_count": 20,
   "metadata": {
    "executionInfo": {
     "elapsed": 12,
     "status": "ok",
     "timestamp": 1659214877263,
     "user": {
      "displayName": "Matheus M",
      "userId": "05134529566023456929"
     },
     "user_tz": 180
    },
    "id": "bBhwchd817mW"
   },
   "outputs": [],
   "source": [
    "google = aggregate(google,\"Google\")"
   ]
  },
  {
   "cell_type": "code",
   "execution_count": 21,
   "metadata": {
    "executionInfo": {
     "elapsed": 11,
     "status": "ok",
     "timestamp": 1659214877263,
     "user": {
      "displayName": "Matheus M",
      "userId": "05134529566023456929"
     },
     "user_tz": 180
    },
    "id": "rPrsBtaW3-e4"
   },
   "outputs": [],
   "source": [
    "aws = aggregate(aws, \"AWS\")"
   ]
  },
  {
   "cell_type": "code",
   "execution_count": 22,
   "metadata": {
    "executionInfo": {
     "elapsed": 10,
     "status": "ok",
     "timestamp": 1659214877263,
     "user": {
      "displayName": "Matheus M",
      "userId": "05134529566023456929"
     },
     "user_tz": 180
    },
    "id": "ywfbPTHN4ATB"
   },
   "outputs": [],
   "source": [
    "azure = aggregate(azure, \"Azure\")"
   ]
  },
  {
   "cell_type": "code",
   "execution_count": 23,
   "metadata": {
    "executionInfo": {
     "elapsed": 8,
     "status": "ok",
     "timestamp": 1659214877263,
     "user": {
      "displayName": "Matheus M",
      "userId": "05134529566023456929"
     },
     "user_tz": 180
    },
    "id": "zMFrEfb34C5_"
   },
   "outputs": [],
   "source": [
    "spring = aggregate(spring, \"Spring\")"
   ]
  },
  {
   "cell_type": "code",
   "execution_count": 24,
   "metadata": {
    "executionInfo": {
     "elapsed": 8,
     "status": "ok",
     "timestamp": 1659214877264,
     "user": {
      "displayName": "Matheus M",
      "userId": "05134529566023456929"
     },
     "user_tz": 180
    },
    "id": "7xwkJXBy4H4W"
   },
   "outputs": [],
   "source": [
    "google[\"framework\"] = \"Android\"\n",
    "aws[\"framework\"] = \"AWS\"\n",
    "azure[\"framework\"] = \"Azure\"\n",
    "spring[\"framework\"] = \"Spring\""
   ]
  },
  {
   "cell_type": "code",
   "execution_count": 25,
   "metadata": {
    "executionInfo": {
     "elapsed": 7,
     "status": "ok",
     "timestamp": 1659214877264,
     "user": {
      "displayName": "Matheus M",
      "userId": "05134529566023456929"
     },
     "user_tz": 180
    },
    "id": "3MEyLrYF4J15"
   },
   "outputs": [],
   "source": [
    "google.to_csv(\"../2-AggregateData/google2022_Rejected_exclude_internal_pulls.csv\")"
   ]
  },
  {
   "cell_type": "code",
   "execution_count": 26,
   "metadata": {
    "executionInfo": {
     "elapsed": 5,
     "status": "ok",
     "timestamp": 1659214877264,
     "user": {
      "displayName": "Matheus M",
      "userId": "05134529566023456929"
     },
     "user_tz": 180
    },
    "id": "NMb3ZCk44NwK"
   },
   "outputs": [],
   "source": [
    "aws.to_csv(\"../2-AggregateData/aws2022_Rejected_exclude_internal_pulls.csv\")"
   ]
  },
  {
   "cell_type": "code",
   "execution_count": 27,
   "metadata": {
    "executionInfo": {
     "elapsed": 5,
     "status": "ok",
     "timestamp": 1659214877264,
     "user": {
      "displayName": "Matheus M",
      "userId": "05134529566023456929"
     },
     "user_tz": 180
    },
    "id": "7Oab1DTQ4QKe"
   },
   "outputs": [],
   "source": [
    "azure.to_csv(\"../2-AggregateData/azure2022_Rejected_exclude_internal_pulls.csv\")"
   ]
  },
  {
   "cell_type": "code",
   "execution_count": 28,
   "metadata": {
    "executionInfo": {
     "elapsed": 4,
     "status": "ok",
     "timestamp": 1659214877264,
     "user": {
      "displayName": "Matheus M",
      "userId": "05134529566023456929"
     },
     "user_tz": 180
    },
    "id": "Sxjs5apE4UXM"
   },
   "outputs": [],
   "source": [
    "spring.to_csv(\"../2-AggregateData/spring2022_Rejected_exclude_internal_pulls.csv\")"
   ]
  },
  {
   "cell_type": "code",
   "execution_count": null,
   "metadata": {},
   "outputs": [],
   "source": []
  }
 ],
 "metadata": {
  "colab": {
   "name": "Agregados(rejeitados).ipynb",
   "provenance": []
  },
  "kernelspec": {
   "display_name": "Python 3 (ipykernel)",
   "language": "python",
   "name": "python3"
  },
  "language_info": {
   "codemirror_mode": {
    "name": "ipython",
    "version": 3
   },
   "file_extension": ".py",
   "mimetype": "text/x-python",
   "name": "python",
   "nbconvert_exporter": "python",
   "pygments_lexer": "ipython3",
   "version": "3.9.12"
  }
 },
 "nbformat": 4,
 "nbformat_minor": 4
}
