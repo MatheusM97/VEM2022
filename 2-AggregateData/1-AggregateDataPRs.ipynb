{
 "cells": [
  {
   "cell_type": "code",
   "execution_count": null,
   "metadata": {
    "id": "ThA-FJGGEF8W"
   },
   "outputs": [],
   "source": [
    "#pip install PyGithub"
   ]
  },
  {
   "cell_type": "code",
   "execution_count": null,
   "metadata": {
    "id": "0XKHr5SRp-qT"
   },
   "outputs": [],
   "source": [
    "import os\n",
    "import pandas as pd\n",
    "#os.getcwd()"
   ]
  },
  {
   "cell_type": "code",
   "execution_count": null,
   "metadata": {
    "id": "ry9LxM6esnDq"
   },
   "outputs": [],
   "source": [
    "#Aggregate by Code samples"
   ]
  },
  {
   "cell_type": "code",
   "execution_count": null,
   "metadata": {
    "id": "B92xz9FZs7K5"
   },
   "outputs": [],
   "source": [
    "google = pd.read_csv(\"../1-ExtractDataPRs/Data2022/googlesamples2022.csv\")\n",
    "aws = pd.read_csv(\"../1-ExtractDataPRs/Data2022/aws2022.csv\")\n",
    "azure = pd.read_csv(\"../1-ExtractDataPRs/Data2022/azure2022.csv\")\n",
    "spring = pd.read_csv(\"../1-ExtractDataPRs/Data2022/spring-guides2022.csv\")"
   ]
  },
  {
   "cell_type": "code",
   "execution_count": null,
   "metadata": {
    "id": "6hGv41i9Bkoy"
   },
   "outputs": [],
   "source": [
    "#filter last 3 years\n",
    "\n",
    "google = google[google['data de criação'] >= '2020-01-01']\n",
    "aws = aws[aws['data de criação'] >= '2020-01-01']\n",
    "azure = azure[azure['data de criação'] >= '2020-01-01']\n",
    "spring = spring[spring['data de criação'] >= '2020-01-01']"
   ]
  },
  {
   "cell_type": "code",
   "execution_count": null,
   "metadata": {
    "id": "hcw9q_bt5dfP"
   },
   "outputs": [],
   "source": [
    "googleColaboradores = pd.read_csv(\"../2-AggregateData/googleMaintainers_exclude_internal_pulls_last3.csv\")\n",
    "awsColaboradores = pd.read_csv(\"../2-AggregateData/awsMaintainers_exclude_internal_pulls_last3.csv\")\n",
    "azureColaboradores = pd.read_csv(\"../2-AggregateData/azureMaintainers_exclude_internal_pulls_last3.csv\")\n",
    "springColaboradores = pd.read_csv(\"../2-AggregateData/springMaintainers_exclude_internal_pulls_last3.csv\")"
   ]
  },
  {
   "cell_type": "code",
   "execution_count": null,
   "metadata": {
    "colab": {
     "base_uri": "https://localhost:8080/"
    },
    "executionInfo": {
     "elapsed": 291,
     "status": "ok",
     "timestamp": 1691110486004,
     "user": {
      "displayName": "Matheus M",
      "userId": "05134529566023456929"
     },
     "user_tz": 240
    },
    "id": "_L7GOXYdOdHX",
    "outputId": "56d2c7ef-233b-46c9-ed9b-c5343fef1ab5"
   },
   "outputs": [
    {
     "name": "stdout",
     "output_type": "stream",
     "text": [
      "248\n",
      "27804\n",
      "8981\n",
      "386\n"
     ]
    }
   ],
   "source": [
    "print(len(google.index))\n",
    "print(len(aws.index))\n",
    "print(len(azure.index))\n",
    "print(len(spring.index))"
   ]
  },
  {
   "cell_type": "code",
   "execution_count": null,
   "metadata": {
    "id": "c6d2znYrOFCr"
   },
   "outputs": [],
   "source": [
    "def remove_internal_pull_requests(pulls, maintainers):\n",
    "  unique_maintainers = maintainers[\"login\"].unique()\n",
    "  last_index = pulls.index[-1]\n",
    "  for index in pulls.index:\n",
    "    #print(index, last_index)\n",
    "    line = pulls.loc[index]\n",
    "    creator = line[\"creator user login\"]\n",
    "    if creator in unique_maintainers:\n",
    "      pulls.drop(index, inplace=True)"
   ]
  },
  {
   "cell_type": "code",
   "execution_count": null,
   "metadata": {
    "id": "I1jvcc5gMbs0"
   },
   "outputs": [],
   "source": [
    "remove_internal_pull_requests(google, googleColaboradores)\n",
    "remove_internal_pull_requests(spring, springColaboradores)\n",
    "remove_internal_pull_requests(aws, awsColaboradores)\n",
    "remove_internal_pull_requests(azure, azureColaboradores)"
   ]
  },
  {
   "cell_type": "code",
   "execution_count": null,
   "metadata": {
    "id": "sH2oAtnbQM3E"
   },
   "outputs": [],
   "source": [
    "def remove_auto_closed(pulls):\n",
    "  last_index = pulls.index[-1]\n",
    "  for index in pulls.index:\n",
    "   # print(index, last_index)\n",
    "    line = pulls.loc[index]\n",
    "    if (line[\"creator user login\"] == line[\"closed user login\"]):\n",
    "      pulls.drop(index, inplace=True)"
   ]
  },
  {
   "cell_type": "code",
   "execution_count": null,
   "metadata": {
    "id": "dESIAI4gQhhr"
   },
   "outputs": [],
   "source": [
    "remove_auto_closed(google)\n",
    "remove_auto_closed(spring)\n",
    "remove_auto_closed(aws)\n",
    "remove_auto_closed(azure)"
   ]
  },
  {
   "cell_type": "code",
   "execution_count": null,
   "metadata": {
    "colab": {
     "base_uri": "https://localhost:8080/"
    },
    "executionInfo": {
     "elapsed": 3,
     "status": "ok",
     "timestamp": 1691110706194,
     "user": {
      "displayName": "Matheus M",
      "userId": "05134529566023456929"
     },
     "user_tz": 240
    },
    "id": "eyJdH2oPPNV-",
    "outputId": "dec7299c-43d4-4846-d938-b0fc5ef6fe59"
   },
   "outputs": [
    {
     "name": "stdout",
     "output_type": "stream",
     "text": [
      "135\n",
      "4345\n",
      "2667\n",
      "269\n"
     ]
    }
   ],
   "source": [
    "print(len(google.index))\n",
    "print(len(aws.index))\n",
    "print(len(azure.index))\n",
    "print(len(spring.index))"
   ]
  },
  {
   "cell_type": "code",
   "execution_count": null,
   "metadata": {
    "colab": {
     "base_uri": "https://localhost:8080/"
    },
    "executionInfo": {
     "elapsed": 2,
     "status": "ok",
     "timestamp": 1691110706194,
     "user": {
      "displayName": "Matheus M",
      "userId": "05134529566023456929"
     },
     "user_tz": 240
    },
    "id": "Ll78NqATzGqH",
    "outputId": "a1c89162-ddd2-409a-b972-b8fa9f77991f"
   },
   "outputs": [
    {
     "name": "stdout",
     "output_type": "stream",
     "text": [
      "          framework                                    sample  \\\n",
      "0       aws-samples  aws-samples/opsworks-demo-php-simple-app   \n",
      "1       aws-samples         aws-samples/aws-dynamodb-examples   \n",
      "2       aws-samples         aws-samples/aws-dynamodb-examples   \n",
      "3       aws-samples         aws-samples/aws-dynamodb-examples   \n",
      "4       aws-samples         aws-samples/aws-dynamodb-examples   \n",
      "...             ...                                       ...   \n",
      "7411  googlesamples                       googlesamples/mlkit   \n",
      "7412  googlesamples                       googlesamples/mlkit   \n",
      "7413  googlesamples                       googlesamples/mlkit   \n",
      "7414  googlesamples            googlesamples/arcore-depth-lab   \n",
      "7415  googlesamples                googlesamples/task-interop   \n",
      "\n",
      "                                                   link      data de criação  \\\n",
      "0     https://github.com/aws-samples/opsworks-demo-p...  2021-10-30 23:37:01   \n",
      "1     https://github.com/aws-samples/aws-dynamodb-ex...  2021-12-17 11:48:38   \n",
      "2     https://github.com/aws-samples/aws-dynamodb-ex...  2021-12-17 02:40:41   \n",
      "3     https://github.com/aws-samples/aws-dynamodb-ex...  2021-12-16 13:28:53   \n",
      "4     https://github.com/aws-samples/aws-dynamodb-ex...  2021-12-16 05:32:35   \n",
      "...                                                 ...                  ...   \n",
      "7411     https://github.com/googlesamples/mlkit/pull/63  2020-07-01 20:58:47   \n",
      "7412     https://github.com/googlesamples/mlkit/pull/21  2020-06-19 16:11:45   \n",
      "7413      https://github.com/googlesamples/mlkit/pull/7  2020-06-05 18:01:50   \n",
      "7414  https://github.com/googlesamples/arcore-depth-...  2021-06-27 05:33:24   \n",
      "7415  https://github.com/googlesamples/task-interop/...  2020-11-18 17:25:57   \n",
      "\n",
      "       data de fechamento  tempo para fechamento  tempo merge  \\\n",
      "0                     NaN                    NaN          NaN   \n",
      "1     2021-12-17 15:58:43                    0.0          0.0   \n",
      "2     2021-12-17 16:38:24                    0.0          0.0   \n",
      "3     2021-12-16 16:10:30                    0.0          0.0   \n",
      "4     2021-12-16 16:11:16                    0.0          0.0   \n",
      "...                   ...                    ...          ...   \n",
      "7411  2020-07-01 21:05:50                    0.0          0.0   \n",
      "7412  2020-06-19 17:26:47                    0.0          0.0   \n",
      "7413  2020-08-22 04:00:49                   77.0          NaN   \n",
      "7414  2021-08-22 23:50:25                   56.0         56.0   \n",
      "7415  2020-11-19 21:57:29                    1.0          1.0   \n",
      "\n",
      "               data merge  data de atualização  merged  ...  \\\n",
      "0                     NaN  2021-10-30 23:37:01   False  ...   \n",
      "1     2021-12-17 15:58:43  2021-12-17 15:58:44    True  ...   \n",
      "2     2021-12-17 16:38:24  2021-12-17 16:38:24    True  ...   \n",
      "3     2021-12-16 16:10:30  2021-12-16 16:10:30    True  ...   \n",
      "4     2021-12-16 16:11:15  2021-12-16 16:11:26    True  ...   \n",
      "...                   ...                  ...     ...  ...   \n",
      "7411  2020-07-01 21:05:50  2020-07-05 15:42:38    True  ...   \n",
      "7412  2020-06-19 17:26:47  2020-06-19 17:26:48    True  ...   \n",
      "7413                  NaN  2020-08-22 04:00:50   False  ...   \n",
      "7414  2021-08-22 23:50:25  2021-08-22 23:50:26    True  ...   \n",
      "7415  2020-11-19 21:57:29  2020-11-19 21:57:29    True  ...   \n",
      "\n",
      "         closed user email closed user seguidores  total de reviews  \\\n",
      "0                      NaN                    NaN               0.0   \n",
      "1                      NaN                   13.0               0.0   \n",
      "2                      NaN                   13.0               0.0   \n",
      "3                      NaN                   13.0               0.0   \n",
      "4                      NaN                   13.0               0.0   \n",
      "...                    ...                    ...               ...   \n",
      "7411                   NaN                  216.0               1.0   \n",
      "7412                   NaN                  216.0               1.0   \n",
      "7413  zhouyiself@gmail.com                   12.0               0.0   \n",
      "7414                   NaN                  166.0               0.0   \n",
      "7415                   NaN                    3.0               2.0   \n",
      "\n",
      "      revisores login review approved user cargo review approved user empresa  \\\n",
      "0                 NaN                        NaN                          NaN   \n",
      "1                 NaN                        NaN                          NaN   \n",
      "2                 NaN                        NaN                          NaN   \n",
      "3                 NaN                        NaN                          NaN   \n",
      "4                 NaN                        NaN                          NaN   \n",
      "...               ...                        ...                          ...   \n",
      "7411           calren                        NaN                       Google   \n",
      "7412           calren                        NaN                       Google   \n",
      "7413              NaN                        NaN                          NaN   \n",
      "7414              NaN                        NaN                          NaN   \n",
      "7415  caller9 caller9                        NaN                          NaN   \n",
      "\n",
      "     review approved user local  review approved user login  \\\n",
      "0                           NaN                         NaN   \n",
      "1                           NaN                         NaN   \n",
      "2                           NaN                         NaN   \n",
      "3                           NaN                         NaN   \n",
      "4                           NaN                         NaN   \n",
      "...                         ...                         ...   \n",
      "7411              San Francisco                      calren   \n",
      "7412              San Francisco                      calren   \n",
      "7413                        NaN                         NaN   \n",
      "7414                        NaN                         NaN   \n",
      "7415                      Texas                     caller9   \n",
      "\n",
      "      review approved user email  review approved user seguidores  \n",
      "0                            NaN                              NaN  \n",
      "1                            NaN                              NaN  \n",
      "2                            NaN                              NaN  \n",
      "3                            NaN                              NaN  \n",
      "4                            NaN                              NaN  \n",
      "...                          ...                              ...  \n",
      "7411                         NaN                            216.0  \n",
      "7412                         NaN                            216.0  \n",
      "7413                         NaN                              NaN  \n",
      "7414                         NaN                              NaN  \n",
      "7415                         NaN                              3.0  \n",
      "\n",
      "[7416 rows x 40 columns]\n"
     ]
    }
   ],
   "source": [
    "all = pd.concat([aws, azure, spring,google], ignore_index=True)\n",
    "print(all)"
   ]
  },
  {
   "cell_type": "markdown",
   "metadata": {
    "id": "9Ur1d8GXZjQu"
   },
   "source": [
    "## Number of Code Samples"
   ]
  },
  {
   "cell_type": "code",
   "execution_count": null,
   "metadata": {
    "colab": {
     "base_uri": "https://localhost:8080/"
    },
    "executionInfo": {
     "elapsed": 280,
     "status": "ok",
     "timestamp": 1691110708709,
     "user": {
      "displayName": "Matheus M",
      "userId": "05134529566023456929"
     },
     "user_tz": 240
    },
    "id": "G4LUCA3xZo9a",
    "outputId": "51310885-e7fd-4485-9e14-87cdd66f76f5"
   },
   "outputs": [
    {
     "data": {
      "text/plain": [
       "googlesamples/mlkit                              35\n",
       "googlesamples/unity-jar-resolver                 16\n",
       "googlesamples/google-services                     9\n",
       "googlesamples/android-media-controller            9\n",
       "googlesamples/oauth-apps-for-windows              6\n",
       "googlesamples/android-testdpc                     5\n",
       "googlesamples/android-custom-lint-rules           5\n",
       "googlesamples/easypermissions                     5\n",
       "googlesamples/android-play-publisher-api          4\n",
       "googlesamples/google-signin-unity                 4\n",
       "googlesamples/glass-enterprise-samples            3\n",
       "googlesamples/identity-appflip-ios                3\n",
       "googlesamples/identity-appflip-android            3\n",
       "googlesamples/identity-appflip-tester-android     3\n",
       "googlesamples/google-photos                       3\n",
       "googlesamples/appauth-js-electron-sample          3\n",
       "googlesamples/assistant-sdk-cpp                   3\n",
       "googlesamples/assistant-sdk-python                3\n",
       "googlesamples/functions-as-a-service              2\n",
       "googlesamples/identity-appflip-tester-ios         2\n",
       "googlesamples/android-play-safetynet              2\n",
       "googlesamples/android-AppUsageStatistics          2\n",
       "googlesamples/android-dynamic-code-loading        1\n",
       "googlesamples/androidtv-sample-inputs             1\n",
       "googlesamples/io2015-codelabs                     1\n",
       "googlesamples/arcore-depth-lab                    1\n",
       "googlesamples/task-interop                        1\n",
       "Name: sample, dtype: int64"
      ]
     },
     "execution_count": 14,
     "metadata": {},
     "output_type": "execute_result"
    }
   ],
   "source": [
    "google[\"sample\"].value_counts()"
   ]
  },
  {
   "cell_type": "code",
   "execution_count": null,
   "metadata": {
    "colab": {
     "base_uri": "https://localhost:8080/"
    },
    "executionInfo": {
     "elapsed": 300,
     "status": "ok",
     "timestamp": 1691110713581,
     "user": {
      "displayName": "Matheus M",
      "userId": "05134529566023456929"
     },
     "user_tz": 240
    },
    "id": "Ucy_EXjaKFA6",
    "outputId": "c422c759-ba4c-413f-eb2f-7a01e4102835"
   },
   "outputs": [
    {
     "data": {
      "text/plain": [
       "27"
      ]
     },
     "execution_count": 15,
     "metadata": {},
     "output_type": "execute_result"
    }
   ],
   "source": [
    "google[\"sample\"].nunique()"
   ]
  },
  {
   "cell_type": "code",
   "execution_count": null,
   "metadata": {
    "colab": {
     "base_uri": "https://localhost:8080/"
    },
    "executionInfo": {
     "elapsed": 437,
     "status": "ok",
     "timestamp": 1691110714459,
     "user": {
      "displayName": "Matheus M",
      "userId": "05134529566023456929"
     },
     "user_tz": 240
    },
    "id": "WgMxoqX5Zt4D",
    "outputId": "19066509-66cc-481b-f07e-0a875ce44d48"
   },
   "outputs": [
    {
     "data": {
      "text/plain": [
       "aws-samples/eks-workshop                                         345\n",
       "aws-samples/aws-cdk-for-k3scluster                               332\n",
       "aws-samples/serverless-patterns                                  162\n",
       "aws-samples/aws-cdk-examples                                     120\n",
       "aws-samples/amazon-codeguru-reviewer-sample-app                   81\n",
       "                                                                ... \n",
       "aws-samples/aws-keyspaces-lambda-python                            1\n",
       "aws-samples/aws-textract-comprehend-lex-chatbot                    1\n",
       "aws-samples/medical-transcription-analysis                         1\n",
       "aws-samples/kogpt2-sagemaker                                       1\n",
       "aws-samples/aws-healthcare-lifescience-ai-ml-sample-notebooks      1\n",
       "Name: sample, Length: 886, dtype: int64"
      ]
     },
     "execution_count": 16,
     "metadata": {},
     "output_type": "execute_result"
    }
   ],
   "source": [
    "aws[\"sample\"].value_counts()"
   ]
  },
  {
   "cell_type": "code",
   "execution_count": null,
   "metadata": {
    "colab": {
     "base_uri": "https://localhost:8080/"
    },
    "executionInfo": {
     "elapsed": 279,
     "status": "ok",
     "timestamp": 1691110716244,
     "user": {
      "displayName": "Matheus M",
      "userId": "05134529566023456929"
     },
     "user_tz": 240
    },
    "id": "nuYCwdZ0KdUw",
    "outputId": "30efd319-3913-4b88-ceb0-f88c18dff2f7"
   },
   "outputs": [
    {
     "data": {
      "text/plain": [
       "886"
      ]
     },
     "execution_count": 17,
     "metadata": {},
     "output_type": "execute_result"
    }
   ],
   "source": [
    "aws[\"sample\"].nunique()"
   ]
  },
  {
   "cell_type": "code",
   "execution_count": null,
   "metadata": {
    "colab": {
     "base_uri": "https://localhost:8080/"
    },
    "executionInfo": {
     "elapsed": 1,
     "status": "ok",
     "timestamp": 1691110716521,
     "user": {
      "displayName": "Matheus M",
      "userId": "05134529566023456929"
     },
     "user_tz": 240
    },
    "id": "CByrwX29ZuTD",
    "outputId": "c90f23a9-d4c8-47be-c695-00aa4b34e13c"
   },
   "outputs": [
    {
     "data": {
      "text/plain": [
       "Azure-Samples/azure-intelligent-edge-patterns                        230\n",
       "Azure-Samples/cognitive-services-quickstart-code                      50\n",
       "Azure-Samples/IoTDemos                                                48\n",
       "Azure-Samples/openhack-devops-team                                    46\n",
       "Azure-Samples/active-directory-aspnetcore-webapp-openidconnect-v2     41\n",
       "                                                                    ... \n",
       "Azure-Samples/migrate-java-ee-app-to-azure-2                           1\n",
       "Azure-Samples/azure-sdk-for-js-storage-blob-stream-nodejs              1\n",
       "Azure-Samples/functions-distributed-tracing-sample                     1\n",
       "Azure-Samples/storage-java-V10-ha-ra-grs                               1\n",
       "Azure-Samples/azure-sql-db-fullstack-serverless-kickstart              1\n",
       "Name: sample, Length: 592, dtype: int64"
      ]
     },
     "execution_count": 18,
     "metadata": {},
     "output_type": "execute_result"
    }
   ],
   "source": [
    "azure[\"sample\"].value_counts()"
   ]
  },
  {
   "cell_type": "code",
   "execution_count": null,
   "metadata": {
    "colab": {
     "base_uri": "https://localhost:8080/"
    },
    "executionInfo": {
     "elapsed": 276,
     "status": "ok",
     "timestamp": 1691110717819,
     "user": {
      "displayName": "Matheus M",
      "userId": "05134529566023456929"
     },
     "user_tz": 240
    },
    "id": "-4G2IswgKmiQ",
    "outputId": "2f50d230-fd1a-4a4d-fd27-4ee53eaf3ad2"
   },
   "outputs": [
    {
     "data": {
      "text/plain": [
       "592"
      ]
     },
     "execution_count": 19,
     "metadata": {},
     "output_type": "execute_result"
    }
   ],
   "source": [
    "azure[\"sample\"].nunique()"
   ]
  },
  {
   "cell_type": "code",
   "execution_count": null,
   "metadata": {
    "colab": {
     "base_uri": "https://localhost:8080/"
    },
    "executionInfo": {
     "elapsed": 301,
     "status": "ok",
     "timestamp": 1691110719518,
     "user": {
      "displayName": "Matheus M",
      "userId": "05134529566023456929"
     },
     "user_tz": 240
    },
    "id": "gka-kJBTZukK",
    "outputId": "049f9ce8-8263-416a-d278-632602f05302"
   },
   "outputs": [
    {
     "data": {
      "text/plain": [
       "spring-guides/gs-crud-with-vaadin                      40\n",
       "spring-guides/gs-rest-service                          13\n",
       "spring-guides/gs-spring-boot                           13\n",
       "spring-guides/gs-spring-boot-docker                    11\n",
       "spring-guides/gs-maven                                 11\n",
       "spring-guides/tut-spring-boot-oauth2                   11\n",
       "spring-guides/tut-react-and-spring-data-rest            8\n",
       "spring-guides/gs-testing-web                            8\n",
       "spring-guides/tut-spring-boot-kotlin                    8\n",
       "spring-guides/gs-accessing-data-mysql                   8\n",
       "spring-guides/tut-spring-security-and-angular-js        7\n",
       "spring-guides/tut-rest                                  7\n",
       "spring-guides/gs-gradle                                 7\n",
       "spring-guides/top-spring-boot-docker                    6\n",
       "spring-guides/gs-uploading-files                        6\n",
       "spring-guides/gs-securing-web                           5\n",
       "spring-guides/getting-started-guides                    5\n",
       "spring-guides/gs-multi-module                           5\n",
       "spring-guides/gs-serving-web-content                    4\n",
       "spring-guides/gs-batch-processing                       4\n",
       "spring-guides/gs-spring-cloud-loadbalancer              4\n",
       "spring-guides/gs-messaging-stomp-websocket              4\n",
       "spring-guides/gs-reactive-rest-service                  4\n",
       "spring-guides/gs-spring-boot-for-azure                  4\n",
       "spring-guides/gs-validating-form-input                  3\n",
       "spring-guides/gs-gateway                                3\n",
       "spring-guides/gs-testing-restdocs                       3\n",
       "spring-guides/gs-centralized-configuration              3\n",
       "spring-guides/gs-accessing-data-rest                    3\n",
       "spring-guides/gs-producing-web-service                  3\n",
       "spring-guides/gs-consuming-rest                         3\n",
       "spring-guides/top-spring-security-architecture          3\n",
       "spring-guides/gs-service-registration-and-discovery     2\n",
       "spring-guides/gs-accessing-data-r2dbc                   2\n",
       "spring-guides/gs-accessing-neo4j-data-rest              2\n",
       "spring-guides/gs-caching                                2\n",
       "spring-guides/gs-integration                            2\n",
       "spring-guides/gs-accessing-mongodb-data-rest            2\n",
       "spring-guides/gs-authenticating-ldap                    2\n",
       "spring-guides/gs-rest-service-cors                      2\n",
       "spring-guides/getting-started-macros                    2\n",
       "spring-guides/gs-handling-form-submission               2\n",
       "spring-guides/gs-messaging-redis                        2\n",
       "spring-guides/gs-accessing-data-mongodb                 2\n",
       "spring-guides/gs-messaging-rabbitmq                     2\n",
       "spring-guides/gs-accessing-data-neo4j                   2\n",
       "spring-guides/gs-rest-hateoas                           2\n",
       "spring-guides/gs-cloud-circuit-breaker                  1\n",
       "spring-guides/gs-spring-cloud-stream                    1\n",
       "spring-guides/gs-messaging-gcp-pubsub                   1\n",
       "spring-guides/gs-contract-rest                          1\n",
       "spring-guides/gs-managing-transactions                  1\n",
       "spring-guides/issue-aggregator                          1\n",
       "spring-guides/gs-accessing-data-jpa                     1\n",
       "spring-guides/gs-async-method                           1\n",
       "spring-guides/gs-consuming-rest-angularjs               1\n",
       "spring-guides/gs-consuming-web-service                  1\n",
       "spring-guides/gs-scheduling-tasks                       1\n",
       "spring-guides/tut-spring-webflux-kotlin-rsocket         1\n",
       "Name: sample, dtype: int64"
      ]
     },
     "execution_count": 20,
     "metadata": {},
     "output_type": "execute_result"
    }
   ],
   "source": [
    "spring[\"sample\"].value_counts()"
   ]
  },
  {
   "cell_type": "code",
   "execution_count": null,
   "metadata": {
    "colab": {
     "base_uri": "https://localhost:8080/"
    },
    "executionInfo": {
     "elapsed": 275,
     "status": "ok",
     "timestamp": 1691110724477,
     "user": {
      "displayName": "Matheus M",
      "userId": "05134529566023456929"
     },
     "user_tz": 240
    },
    "id": "KRTJ7dGxKwD0",
    "outputId": "158ffd7f-dc08-41b0-af25-735dedd52d1c"
   },
   "outputs": [
    {
     "data": {
      "text/plain": [
       "59"
      ]
     },
     "execution_count": 21,
     "metadata": {},
     "output_type": "execute_result"
    }
   ],
   "source": [
    "spring[\"sample\"].nunique()"
   ]
  },
  {
   "cell_type": "code",
   "execution_count": null,
   "metadata": {
    "colab": {
     "base_uri": "https://localhost:8080/"
    },
    "executionInfo": {
     "elapsed": 285,
     "status": "ok",
     "timestamp": 1691110726279,
     "user": {
      "displayName": "Matheus M",
      "userId": "05134529566023456929"
     },
     "user_tz": 240
    },
    "id": "9voReb3UZSmM",
    "outputId": "be09d489-f3fe-4cc2-adf0-df87f3ea44bd"
   },
   "outputs": [
    {
     "data": {
      "text/plain": [
       "aws-samples/eks-workshop                                                     345\n",
       "aws-samples/aws-cdk-for-k3scluster                                           332\n",
       "Azure-Samples/azure-intelligent-edge-patterns                                230\n",
       "aws-samples/serverless-patterns                                              162\n",
       "aws-samples/aws-cdk-examples                                                 120\n",
       "                                                                            ... \n",
       "aws-samples/aws-serverless-app-with-aurora-and-python-sql-alchemy-example      1\n",
       "aws-samples/cognito-device-grant-flow                                          1\n",
       "aws-samples/aws-batch-runtime-monitoring                                       1\n",
       "aws-samples/i-love-my-local-farmer                                             1\n",
       "googlesamples/task-interop                                                     1\n",
       "Name: sample, Length: 1564, dtype: int64"
      ]
     },
     "execution_count": 22,
     "metadata": {},
     "output_type": "execute_result"
    }
   ],
   "source": [
    "all[\"sample\"].value_counts()"
   ]
  },
  {
   "cell_type": "markdown",
   "metadata": {
    "id": "XsMFEJhru4KR"
   },
   "source": [
    "## Analysis at Pull Request level"
   ]
  },
  {
   "cell_type": "markdown",
   "metadata": {
    "id": "CEP1tLRjyUy-"
   },
   "source": [
    "### Pulls Open X Pulls Closed"
   ]
  },
  {
   "cell_type": "code",
   "execution_count": null,
   "metadata": {
    "colab": {
     "base_uri": "https://localhost:8080/"
    },
    "executionInfo": {
     "elapsed": 282,
     "status": "ok",
     "timestamp": 1691110733708,
     "user": {
      "displayName": "Matheus M",
      "userId": "05134529566023456929"
     },
     "user_tz": 240
    },
    "id": "tKfGI2EgyY0_",
    "outputId": "c54d634c-fdcc-4a36-be6d-9d9a3bb5a1d8"
   },
   "outputs": [
    {
     "data": {
      "text/plain": [
       "closed    88\n",
       "open      47\n",
       "Name: status, dtype: int64"
      ]
     },
     "execution_count": 23,
     "metadata": {},
     "output_type": "execute_result"
    }
   ],
   "source": [
    "google[\"status\"].value_counts()"
   ]
  },
  {
   "cell_type": "code",
   "execution_count": null,
   "metadata": {
    "colab": {
     "base_uri": "https://localhost:8080/"
    },
    "executionInfo": {
     "elapsed": 3,
     "status": "ok",
     "timestamp": 1691110733991,
     "user": {
      "displayName": "Matheus M",
      "userId": "05134529566023456929"
     },
     "user_tz": 240
    },
    "id": "GgRTqHFvyf6O",
    "outputId": "b59929a8-1244-4a5e-fa7c-9d7d71f4af83"
   },
   "outputs": [
    {
     "data": {
      "text/plain": [
       "closed    3489\n",
       "open       856\n",
       "Name: status, dtype: int64"
      ]
     },
     "execution_count": 24,
     "metadata": {},
     "output_type": "execute_result"
    }
   ],
   "source": [
    "aws[\"status\"].value_counts()"
   ]
  },
  {
   "cell_type": "code",
   "execution_count": null,
   "metadata": {
    "colab": {
     "base_uri": "https://localhost:8080/"
    },
    "executionInfo": {
     "elapsed": 2,
     "status": "ok",
     "timestamp": 1691110733991,
     "user": {
      "displayName": "Matheus M",
      "userId": "05134529566023456929"
     },
     "user_tz": 240
    },
    "id": "8aK-rlFPyi5e",
    "outputId": "7a0a4d10-c686-494b-8915-c39f1ea7d3ca"
   },
   "outputs": [
    {
     "data": {
      "text/plain": [
       "closed    1697\n",
       "open       970\n",
       "Name: status, dtype: int64"
      ]
     },
     "execution_count": 25,
     "metadata": {},
     "output_type": "execute_result"
    }
   ],
   "source": [
    "azure[\"status\"].value_counts()"
   ]
  },
  {
   "cell_type": "code",
   "execution_count": null,
   "metadata": {
    "colab": {
     "base_uri": "https://localhost:8080/"
    },
    "executionInfo": {
     "elapsed": 3,
     "status": "ok",
     "timestamp": 1691110733992,
     "user": {
      "displayName": "Matheus M",
      "userId": "05134529566023456929"
     },
     "user_tz": 240
    },
    "id": "bUaZN2LQymQX",
    "outputId": "750f8643-fa32-470a-992b-7a751b9e5a8e"
   },
   "outputs": [
    {
     "data": {
      "text/plain": [
       "closed    204\n",
       "open       65\n",
       "Name: status, dtype: int64"
      ]
     },
     "execution_count": 26,
     "metadata": {},
     "output_type": "execute_result"
    }
   ],
   "source": [
    "spring[\"status\"].value_counts()"
   ]
  },
  {
   "cell_type": "code",
   "execution_count": null,
   "metadata": {
    "colab": {
     "base_uri": "https://localhost:8080/"
    },
    "executionInfo": {
     "elapsed": 2,
     "status": "ok",
     "timestamp": 1691110733992,
     "user": {
      "displayName": "Matheus M",
      "userId": "05134529566023456929"
     },
     "user_tz": 240
    },
    "id": "Ls5lZvNUzkMe",
    "outputId": "f5de6299-f2b0-4a7a-9f5c-99c7d30f2512"
   },
   "outputs": [
    {
     "data": {
      "text/plain": [
       "closed    5478\n",
       "open      1938\n",
       "Name: status, dtype: int64"
      ]
     },
     "execution_count": 27,
     "metadata": {},
     "output_type": "execute_result"
    }
   ],
   "source": [
    "all[\"status\"].value_counts()"
   ]
  },
  {
   "cell_type": "markdown",
   "metadata": {
    "id": "iFJia1ZVzyJ1"
   },
   "source": [
    "### Pulls Merged x Not Merged"
   ]
  },
  {
   "cell_type": "code",
   "execution_count": null,
   "metadata": {
    "id": "OC5Z2HMYz5oW"
   },
   "outputs": [],
   "source": [
    "google_closed = google[google[\"status\"] == \"closed\"]\n",
    "aws_closed = aws[aws[\"status\"] == \"closed\"]\n",
    "azure_closed = azure[azure[\"status\"] == \"closed\"]\n",
    "spring_closed = spring[spring[\"status\"] == \"closed\"]\n",
    "all_closed = all[all[\"status\"] == \"closed\"]"
   ]
  },
  {
   "cell_type": "code",
   "execution_count": null,
   "metadata": {
    "colab": {
     "base_uri": "https://localhost:8080/"
    },
    "executionInfo": {
     "elapsed": 2,
     "status": "ok",
     "timestamp": 1691110733992,
     "user": {
      "displayName": "Matheus M",
      "userId": "05134529566023456929"
     },
     "user_tz": 240
    },
    "id": "kmFhVNMMuFXK",
    "outputId": "ba4fce0f-fdb9-4f3b-ca82-b0ef02a6a65b"
   },
   "outputs": [
    {
     "data": {
      "text/plain": [
       "True     65\n",
       "False    23\n",
       "Name: merged, dtype: int64"
      ]
     },
     "execution_count": 29,
     "metadata": {},
     "output_type": "execute_result"
    }
   ],
   "source": [
    "google_closed[\"merged\"].value_counts()"
   ]
  },
  {
   "cell_type": "code",
   "execution_count": null,
   "metadata": {
    "colab": {
     "base_uri": "https://localhost:8080/"
    },
    "executionInfo": {
     "elapsed": 284,
     "status": "ok",
     "timestamp": 1691110734274,
     "user": {
      "displayName": "Matheus M",
      "userId": "05134529566023456929"
     },
     "user_tz": 240
    },
    "id": "n86XYDFi02zF",
    "outputId": "527a5bd7-bc6b-461f-dff5-6382efff9f73"
   },
   "outputs": [
    {
     "data": {
      "text/plain": [
       "True     3118\n",
       "False     371\n",
       "Name: merged, dtype: int64"
      ]
     },
     "execution_count": 30,
     "metadata": {},
     "output_type": "execute_result"
    }
   ],
   "source": [
    "aws_closed[\"merged\"].value_counts()"
   ]
  },
  {
   "cell_type": "code",
   "execution_count": null,
   "metadata": {
    "colab": {
     "base_uri": "https://localhost:8080/"
    },
    "executionInfo": {
     "elapsed": 2,
     "status": "ok",
     "timestamp": 1691110734274,
     "user": {
      "displayName": "Matheus M",
      "userId": "05134529566023456929"
     },
     "user_tz": 240
    },
    "id": "nvvlxfyb073d",
    "outputId": "ea6be1e2-8413-4f1e-f239-66fc7c87bd5f"
   },
   "outputs": [
    {
     "data": {
      "text/plain": [
       "True     1517\n",
       "False     180\n",
       "Name: merged, dtype: int64"
      ]
     },
     "execution_count": 31,
     "metadata": {},
     "output_type": "execute_result"
    }
   ],
   "source": [
    "azure_closed[\"merged\"].value_counts()"
   ]
  },
  {
   "cell_type": "code",
   "execution_count": null,
   "metadata": {
    "colab": {
     "base_uri": "https://localhost:8080/"
    },
    "executionInfo": {
     "elapsed": 1,
     "status": "ok",
     "timestamp": 1691110734274,
     "user": {
      "displayName": "Matheus M",
      "userId": "05134529566023456929"
     },
     "user_tz": 240
    },
    "id": "VpMnpyiE0-x1",
    "outputId": "9960a315-f312-4090-9efc-fbf358fa1d88"
   },
   "outputs": [
    {
     "data": {
      "text/plain": [
       "True     155\n",
       "False     49\n",
       "Name: merged, dtype: int64"
      ]
     },
     "execution_count": 32,
     "metadata": {},
     "output_type": "execute_result"
    }
   ],
   "source": [
    "spring_closed[\"merged\"].value_counts()"
   ]
  },
  {
   "cell_type": "code",
   "execution_count": null,
   "metadata": {
    "colab": {
     "base_uri": "https://localhost:8080/"
    },
    "executionInfo": {
     "elapsed": 1,
     "status": "ok",
     "timestamp": 1691110734274,
     "user": {
      "displayName": "Matheus M",
      "userId": "05134529566023456929"
     },
     "user_tz": 240
    },
    "id": "oV14casu1DDs",
    "outputId": "724bed46-0192-4105-b301-cb34471bc568"
   },
   "outputs": [
    {
     "data": {
      "text/plain": [
       "True     4855\n",
       "False     623\n",
       "Name: merged, dtype: int64"
      ]
     },
     "execution_count": 33,
     "metadata": {},
     "output_type": "execute_result"
    }
   ],
   "source": [
    "all_closed[\"merged\"].value_counts()"
   ]
  },
  {
   "cell_type": "markdown",
   "metadata": {
    "id": "IuY2xdaC3aRU"
   },
   "source": [
    "## Analysis at code sample level"
   ]
  },
  {
   "cell_type": "code",
   "execution_count": null,
   "metadata": {
    "id": "aVxRUNEX3efd"
   },
   "outputs": [],
   "source": [
    "def set_index(dataframe):\n",
    "  dataframe.set_index(dataframe[\"sample\"], inplace=True)\n",
    "  del dataframe[\"sample\"]"
   ]
  },
  {
   "cell_type": "code",
   "execution_count": null,
   "metadata": {
    "id": "BWVN7zLd1qwA"
   },
   "outputs": [],
   "source": [
    "set_index(google)\n",
    "set_index(aws)\n",
    "set_index(azure)\n",
    "set_index(spring)"
   ]
  },
  {
   "cell_type": "code",
   "execution_count": null,
   "metadata": {
    "id": "B7djS8e2eLsy"
   },
   "outputs": [],
   "source": [
    "def calculate_stats(dataframe):\n",
    "  for sample in dataframe.index.unique():\n",
    "    aux = dataframe.loc[[sample]]\n",
    "    dataframe.loc[sample, \"closed_count\"] = aux[aux[\"status\"] == \"closed\"][\"framework\"].count()\n",
    "    dataframe.loc[sample, \"open_count\"] = aux[aux[\"status\"] == \"open\"][\"framework\"].count()\n",
    "    dataframe.loc[sample, \"merged_count\"] = aux[aux[\"merged\"] == True][\"framework\"].count()\n",
    "    aux2 = aux[aux[\"status\"] == \"closed\"]\n",
    "    dataframe.loc[sample, \"not_merged_count\"] = aux2[aux2[\"merged\"] == False][\"framework\"].count()"
   ]
  },
  {
   "cell_type": "code",
   "execution_count": null,
   "metadata": {
    "id": "evlae8PgTUwu"
   },
   "outputs": [],
   "source": [
    "calculate_stats(google)\n",
    "calculate_stats(aws)\n",
    "calculate_stats(azure)\n",
    "calculate_stats(spring)"
   ]
  },
  {
   "cell_type": "code",
   "execution_count": null,
   "metadata": {
    "id": "8lBC1vRM-c5a"
   },
   "outputs": [],
   "source": [
    "def aggregate(dataframe, framework):\n",
    "    dataframe[\"framework\"] = framework\n",
    "    del dataframe[\"merge user cargo\"]\n",
    "    del dataframe[\"merged\"]\n",
    "    del dataframe[\"merge user seguidores\"]\n",
    "    del dataframe[\"merge user tempo no GitHub\"]\n",
    "    del dataframe[\"creator user cargo\"]\n",
    "    del dataframe[\"creator user seguidores\"]\n",
    "    del dataframe[\"creator user tempo no GitHub\"]\n",
    "    del dataframe[\"closed user cargo\"]\n",
    "    del dataframe[\"closed user seguidores\"]\n",
    "    del dataframe[\"total de reviews\"]\n",
    "    del dataframe[\"review approved user cargo\"]\n",
    "    del dataframe[\"review approved user seguidores\"]\n",
    "    dataframe = dataframe.groupby(by=\"sample\").mean()\n",
    "\n",
    "    return dataframe"
   ]
  },
  {
   "cell_type": "code",
   "execution_count": null,
   "metadata": {
    "colab": {
     "base_uri": "https://localhost:8080/"
    },
    "executionInfo": {
     "elapsed": 3,
     "status": "ok",
     "timestamp": 1691110759594,
     "user": {
      "displayName": "Matheus M",
      "userId": "05134529566023456929"
     },
     "user_tz": 240
    },
    "id": "nkEmrMnC63iD",
    "outputId": "1aa69dac-b117-4d24-fcd9-9b8b1f3c17fc"
   },
   "outputs": [
    {
     "name": "stderr",
     "output_type": "stream",
     "text": [
      "<ipython-input-38-2a710959a67a>:15: FutureWarning: The default value of numeric_only in DataFrameGroupBy.mean is deprecated. In a future version, numeric_only will default to False. Either specify numeric_only or select only columns which should be valid for the function.\n",
      "  dataframe = dataframe.groupby(by=\"sample\").mean()\n"
     ]
    }
   ],
   "source": [
    "google = aggregate(google, \"Android\")"
   ]
  },
  {
   "cell_type": "code",
   "execution_count": null,
   "metadata": {
    "colab": {
     "base_uri": "https://localhost:8080/"
    },
    "executionInfo": {
     "elapsed": 3,
     "status": "ok",
     "timestamp": 1691110759594,
     "user": {
      "displayName": "Matheus M",
      "userId": "05134529566023456929"
     },
     "user_tz": 240
    },
    "id": "o9UMyJsH63Sv",
    "outputId": "22255d01-472a-4ccc-9cb3-6301a5deedbe"
   },
   "outputs": [
    {
     "name": "stderr",
     "output_type": "stream",
     "text": [
      "<ipython-input-38-2a710959a67a>:15: FutureWarning: The default value of numeric_only in DataFrameGroupBy.mean is deprecated. In a future version, numeric_only will default to False. Either specify numeric_only or select only columns which should be valid for the function.\n",
      "  dataframe = dataframe.groupby(by=\"sample\").mean()\n"
     ]
    }
   ],
   "source": [
    "aws = aggregate(aws, \"AWS\")"
   ]
  },
  {
   "cell_type": "code",
   "execution_count": null,
   "metadata": {
    "colab": {
     "base_uri": "https://localhost:8080/"
    },
    "executionInfo": {
     "elapsed": 295,
     "status": "ok",
     "timestamp": 1691110774382,
     "user": {
      "displayName": "Matheus M",
      "userId": "05134529566023456929"
     },
     "user_tz": 240
    },
    "id": "KiOsKBFSzRro",
    "outputId": "7a7c2d0b-acf6-4f12-f4ea-2df17b3cfd5a"
   },
   "outputs": [
    {
     "name": "stderr",
     "output_type": "stream",
     "text": [
      "<ipython-input-38-2a710959a67a>:15: FutureWarning: The default value of numeric_only in DataFrameGroupBy.mean is deprecated. In a future version, numeric_only will default to False. Either specify numeric_only or select only columns which should be valid for the function.\n",
      "  dataframe = dataframe.groupby(by=\"sample\").mean()\n"
     ]
    }
   ],
   "source": [
    "azure = aggregate(azure, \"Azure\")"
   ]
  },
  {
   "cell_type": "code",
   "execution_count": null,
   "metadata": {
    "colab": {
     "base_uri": "https://localhost:8080/"
    },
    "executionInfo": {
     "elapsed": 295,
     "status": "ok",
     "timestamp": 1691110787322,
     "user": {
      "displayName": "Matheus M",
      "userId": "05134529566023456929"
     },
     "user_tz": 240
    },
    "id": "j4GnPRrw9Bmx",
    "outputId": "30f97c55-2e39-48e6-8f7b-fa59f436f8c6"
   },
   "outputs": [
    {
     "name": "stderr",
     "output_type": "stream",
     "text": [
      "<ipython-input-38-2a710959a67a>:15: FutureWarning: The default value of numeric_only in DataFrameGroupBy.mean is deprecated. In a future version, numeric_only will default to False. Either specify numeric_only or select only columns which should be valid for the function.\n",
      "  dataframe = dataframe.groupby(by=\"sample\").mean()\n"
     ]
    }
   ],
   "source": [
    "spring = aggregate(spring, \"Spring\")"
   ]
  },
  {
   "cell_type": "code",
   "execution_count": null,
   "metadata": {
    "id": "s1iIkweHDmIH"
   },
   "outputs": [],
   "source": [
    "google[\"framework\"] = \"Android\"\n",
    "aws[\"framework\"] = \"AWS\"\n",
    "azure[\"framework\"] = \"Azure\"\n",
    "spring[\"framework\"] = \"Spring\""
   ]
  },
  {
   "cell_type": "code",
   "execution_count": null,
   "metadata": {
    "id": "2TWyLDcWDmIH"
   },
   "outputs": [],
   "source": [
    "def relative_metrics(dataframe):\n",
    "    dataframe[\"relative_open_count\"] = (dataframe[\"open_count\"] / (dataframe[\"open_count\"] + dataframe[\"closed_count\"])) * 100\n",
    "    dataframe[\"relative_closed_count\"] = (dataframe[\"closed_count\"] / (dataframe[\"open_count\"] + dataframe[\"closed_count\"])) * 100\n",
    "    dataframe[\"relative_merged\"] = (dataframe[\"merged_count\"] / dataframe[\"closed_count\"]) * 100\n",
    "    dataframe[\"relative_not_merged\"] = (dataframe[\"not_merged_count\"] / dataframe[\"closed_count\"]) * 100\n",
    "    return dataframe"
   ]
  },
  {
   "cell_type": "code",
   "execution_count": null,
   "metadata": {
    "id": "5hevAUBBDmIH"
   },
   "outputs": [],
   "source": [
    "google = relative_metrics(google)\n",
    "aws = relative_metrics(aws)\n",
    "azure = relative_metrics(azure)\n",
    "spring = relative_metrics(spring)"
   ]
  },
  {
   "cell_type": "code",
   "execution_count": null,
   "metadata": {
    "id": "tsuyWsYc9O8O"
   },
   "outputs": [],
   "source": [
    "google.to_csv(\"../2-AggregateData/google2022_exclude_inside_last3.csv\")"
   ]
  },
  {
   "cell_type": "code",
   "execution_count": null,
   "metadata": {
    "id": "rqlGpvoRDxmz"
   },
   "outputs": [],
   "source": [
    "aws.to_csv(\"../2-AggregateData/aws2022_exclude_inside_last3.csv\")"
   ]
  },
  {
   "cell_type": "code",
   "execution_count": null,
   "metadata": {
    "id": "bghCAqTdDxaW"
   },
   "outputs": [],
   "source": [
    "azure.to_csv(\"../2-AggregateData/azure2022_exclude_inside_last3.csv\")"
   ]
  },
  {
   "cell_type": "code",
   "execution_count": null,
   "metadata": {
    "id": "dzK-YctYDxGq"
   },
   "outputs": [],
   "source": [
    "spring.to_csv(\"../2-AggregateData/spring2022_exclude_inside_last3.csv\")"
   ]
  },
  {
   "cell_type": "code",
   "execution_count": null,
   "metadata": {
    "id": "UVcE0YjO2ced"
   },
   "outputs": [],
   "source": []
  }
 ],
 "metadata": {
  "colab": {
   "collapsed_sections": [
    "9Ur1d8GXZjQu",
    "XsMFEJhru4KR"
   ],
   "provenance": []
  },
  "kernelspec": {
   "display_name": "Python 3 (ipykernel)",
   "language": "python",
   "name": "python3"
  },
  "language_info": {
   "codemirror_mode": {
    "name": "ipython",
    "version": 3
   },
   "file_extension": ".py",
   "mimetype": "text/x-python",
   "name": "python",
   "nbconvert_exporter": "python",
   "pygments_lexer": "ipython3",
   "version": "3.11.4"
  }
 },
 "nbformat": 4,
 "nbformat_minor": 4
}
