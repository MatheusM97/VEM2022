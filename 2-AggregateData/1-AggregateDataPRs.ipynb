{
 "cells": [
  {
   "cell_type": "code",
   "execution_count": 1,
   "metadata": {
    "colab": {
     "base_uri": "https://localhost:8080/"
    },
    "executionInfo": {
     "elapsed": 5177,
     "status": "ok",
     "timestamp": 1659198425107,
     "user": {
      "displayName": "Gabriel Menezes",
      "userId": "04710021433655722253"
     },
     "user_tz": 240
    },
    "id": "ThA-FJGGEF8W",
    "outputId": "307a1c4a-9b4d-402c-def1-46e5494fc678"
   },
   "outputs": [],
   "source": [
    "#pip install PyGithub"
   ]
  },
  {
   "cell_type": "code",
   "execution_count": 2,
   "metadata": {
    "colab": {
     "base_uri": "https://localhost:8080/",
     "height": 36
    },
    "executionInfo": {
     "elapsed": 726,
     "status": "ok",
     "timestamp": 1659198448811,
     "user": {
      "displayName": "Gabriel Menezes",
      "userId": "04710021433655722253"
     },
     "user_tz": 240
    },
    "id": "0XKHr5SRp-qT",
    "outputId": "f16d5605-997a-40f1-a881-b3748032f91b"
   },
   "outputs": [],
   "source": [
    "import os\n",
    "import pandas as pd\n",
    "#os.getcwd()"
   ]
  },
  {
   "cell_type": "code",
   "execution_count": 3,
   "metadata": {
    "id": "ry9LxM6esnDq"
   },
   "outputs": [],
   "source": [
    "#Aggregate by Code samples"
   ]
  },
  {
   "cell_type": "code",
   "execution_count": 4,
   "metadata": {
    "id": "B92xz9FZs7K5"
   },
   "outputs": [],
   "source": [
    "google = pd.read_csv(\"../1-ExtractDataPRs/Data2022/googlesamples2022.csv\")\n",
    "aws = pd.read_csv(\"../1-ExtractDataPRs/Data2022/aws2022.csv\")\n",
    "azure = pd.read_csv(\"../1-ExtractDataPRs/Data2022/azure2022.csv\")\n",
    "spring = pd.read_csv(\"../1-ExtractDataPRs/Data2022/spring-guides2022.csv\")"
   ]
  },
  {
   "cell_type": "code",
   "execution_count": 5,
   "metadata": {
    "id": "hcw9q_bt5dfP"
   },
   "outputs": [],
   "source": [
    "googleColaboradores = pd.read_csv(\"../2-AggregateData/googleMaintainers_exclude_internal_pulls.csv\")\n",
    "awsColaboradores = pd.read_csv(\"../2-AggregateData/awsMaintainers_exclude_internal_pulls.csv\")\n",
    "azureColaboradores = pd.read_csv(\"../2-AggregateData/azureMaintainers_exclude_internal_pulls.csv\")\n",
    "springColaboradores = pd.read_csv(\"../2-AggregateData/springMaintainers_exclude_internal_pulls.csv\")"
   ]
  },
  {
   "cell_type": "code",
   "execution_count": 6,
   "metadata": {
    "colab": {
     "base_uri": "https://localhost:8080/"
    },
    "executionInfo": {
     "elapsed": 6,
     "status": "ok",
     "timestamp": 1659204020839,
     "user": {
      "displayName": "Gabriel Menezes",
      "userId": "04710021433655722253"
     },
     "user_tz": 240
    },
    "id": "_L7GOXYdOdHX",
    "outputId": "0d2f0e56-3cbb-489b-c77b-f7a39f259c3d"
   },
   "outputs": [
    {
     "name": "stdout",
     "output_type": "stream",
     "text": [
      "834\n",
      "34030\n",
      "17905\n",
      "1632\n"
     ]
    }
   ],
   "source": [
    "print(len(google.index))\n",
    "print(len(aws.index))\n",
    "print(len(azure.index))\n",
    "print(len(spring.index))"
   ]
  },
  {
   "cell_type": "code",
   "execution_count": 7,
   "metadata": {
    "id": "c6d2znYrOFCr"
   },
   "outputs": [],
   "source": [
    "def remove_internal_pull_requests(pulls, maintainers):\n",
    "  unique_maintainers = maintainers[\"login\"].unique()\n",
    "  last_index = pulls.index[-1]\n",
    "  for index in pulls.index:\n",
    "    #print(index, last_index)\n",
    "    line = pulls.loc[index]\n",
    "    creator = line[\"creator user login\"]\n",
    "    if creator in unique_maintainers:\n",
    "      pulls.drop(index, inplace=True)"
   ]
  },
  {
   "cell_type": "code",
   "execution_count": 8,
   "metadata": {
    "id": "I1jvcc5gMbs0"
   },
   "outputs": [],
   "source": [
    "remove_internal_pull_requests(google, googleColaboradores)\n",
    "remove_internal_pull_requests(spring, springColaboradores)\n",
    "remove_internal_pull_requests(aws, awsColaboradores)\n",
    "remove_internal_pull_requests(azure, azureColaboradores)"
   ]
  },
  {
   "cell_type": "code",
   "execution_count": 9,
   "metadata": {
    "id": "sH2oAtnbQM3E"
   },
   "outputs": [],
   "source": [
    "def remove_auto_closed(pulls):\n",
    "  last_index = pulls.index[-1]\n",
    "  for index in pulls.index:\n",
    "   # print(index, last_index)\n",
    "    line = pulls.loc[index]\n",
    "    if (line[\"creator user login\"] == line[\"closed user login\"]):\n",
    "      pulls.drop(index, inplace=True)"
   ]
  },
  {
   "cell_type": "code",
   "execution_count": 10,
   "metadata": {
    "id": "dESIAI4gQhhr"
   },
   "outputs": [],
   "source": [
    "remove_auto_closed(google)\n",
    "remove_auto_closed(spring)\n",
    "remove_auto_closed(aws)\n",
    "remove_auto_closed(azure)"
   ]
  },
  {
   "cell_type": "code",
   "execution_count": 11,
   "metadata": {
    "colab": {
     "base_uri": "https://localhost:8080/"
    },
    "executionInfo": {
     "elapsed": 236,
     "status": "ok",
     "timestamp": 1659204506690,
     "user": {
      "displayName": "Gabriel Menezes",
      "userId": "04710021433655722253"
     },
     "user_tz": 240
    },
    "id": "eyJdH2oPPNV-",
    "outputId": "ecaf344d-7a3f-4962-c8f4-cdc66e4973d2"
   },
   "outputs": [
    {
     "name": "stdout",
     "output_type": "stream",
     "text": [
      "483\n",
      "6194\n",
      "4933\n",
      "1150\n"
     ]
    }
   ],
   "source": [
    "print(len(google.index))\n",
    "print(len(aws.index))\n",
    "print(len(azure.index))\n",
    "print(len(spring.index))"
   ]
  },
  {
   "cell_type": "code",
   "execution_count": 12,
   "metadata": {
    "id": "Ll78NqATzGqH"
   },
   "outputs": [
    {
     "name": "stdout",
     "output_type": "stream",
     "text": [
      "           framework                                  sample  \\\n",
      "0        aws-samples  aws-samples/opsworks-example-cookbooks   \n",
      "1        aws-samples  aws-samples/opsworks-example-cookbooks   \n",
      "2        aws-samples  aws-samples/opsworks-example-cookbooks   \n",
      "3        aws-samples  aws-samples/opsworks-example-cookbooks   \n",
      "4        aws-samples  aws-samples/opsworks-example-cookbooks   \n",
      "...              ...                                     ...   \n",
      "12755  googlesamples                     googlesamples/mlkit   \n",
      "12756  googlesamples                     googlesamples/mlkit   \n",
      "12757  googlesamples                     googlesamples/mlkit   \n",
      "12758  googlesamples          googlesamples/arcore-depth-lab   \n",
      "12759  googlesamples              googlesamples/task-interop   \n",
      "\n",
      "                                                    link      data de criação  \\\n",
      "0      https://github.com/aws-samples/opsworks-exampl...  2019-10-21 14:09:08   \n",
      "1      https://github.com/aws-samples/opsworks-exampl...  2019-02-27 11:30:52   \n",
      "2      https://github.com/aws-samples/opsworks-exampl...  2017-10-10 12:13:52   \n",
      "3      https://github.com/aws-samples/opsworks-exampl...  2017-05-12 09:53:05   \n",
      "4      https://github.com/aws-samples/opsworks-exampl...  2014-11-07 18:00:27   \n",
      "...                                                  ...                  ...   \n",
      "12755     https://github.com/googlesamples/mlkit/pull/63  2020-07-01 20:58:47   \n",
      "12756     https://github.com/googlesamples/mlkit/pull/21  2020-06-19 16:11:45   \n",
      "12757      https://github.com/googlesamples/mlkit/pull/7  2020-06-05 18:01:50   \n",
      "12758  https://github.com/googlesamples/arcore-depth-...  2021-06-27 05:33:24   \n",
      "12759  https://github.com/googlesamples/task-interop/...  2020-11-18 17:25:57   \n",
      "\n",
      "        data de fechamento  tempo para fechamento  tempo merge  \\\n",
      "0                      NaN                    NaN          NaN   \n",
      "1                      NaN                    NaN          NaN   \n",
      "2                      NaN                    NaN          NaN   \n",
      "3      2017-05-12 13:56:55                    0.0          0.0   \n",
      "4                      NaN                    NaN          NaN   \n",
      "...                    ...                    ...          ...   \n",
      "12755  2020-07-01 21:05:50                    0.0          0.0   \n",
      "12756  2020-06-19 17:26:47                    0.0          0.0   \n",
      "12757  2020-08-22 04:00:49                   77.0          NaN   \n",
      "12758  2021-08-22 23:50:25                   56.0         56.0   \n",
      "12759  2020-11-19 21:57:29                    1.0          1.0   \n",
      "\n",
      "                data merge  data de atualização  merged  ...  \\\n",
      "0                      NaN  2019-10-21 14:09:08   False  ...   \n",
      "1                      NaN  2019-02-27 11:30:52   False  ...   \n",
      "2                      NaN  2017-10-10 12:13:52   False  ...   \n",
      "3      2017-05-12 13:56:55  2017-05-12 13:56:55    True  ...   \n",
      "4                      NaN  2014-11-07 18:00:27   False  ...   \n",
      "...                    ...                  ...     ...  ...   \n",
      "12755  2020-07-01 21:05:50  2020-07-05 15:42:38    True  ...   \n",
      "12756  2020-06-19 17:26:47  2020-06-19 17:26:48    True  ...   \n",
      "12757                  NaN  2020-08-22 04:00:50   False  ...   \n",
      "12758  2021-08-22 23:50:25  2021-08-22 23:50:26    True  ...   \n",
      "12759  2020-11-19 21:57:29  2020-11-19 21:57:29    True  ...   \n",
      "\n",
      "          closed user email closed user seguidores  total de reviews  \\\n",
      "0                       NaN                    NaN               0.0   \n",
      "1                       NaN                    NaN               0.0   \n",
      "2                       NaN                    NaN               0.0   \n",
      "3           jw@innerewut.de                  169.0               0.0   \n",
      "4                       NaN                    NaN               0.0   \n",
      "...                     ...                    ...               ...   \n",
      "12755                   NaN                  216.0               1.0   \n",
      "12756                   NaN                  216.0               1.0   \n",
      "12757  zhouyiself@gmail.com                   12.0               0.0   \n",
      "12758                   NaN                  166.0               0.0   \n",
      "12759                   NaN                    3.0               2.0   \n",
      "\n",
      "       revisores login review approved user cargo  \\\n",
      "0                  NaN                        NaN   \n",
      "1                  NaN                        NaN   \n",
      "2                  NaN                        NaN   \n",
      "3                  NaN                        NaN   \n",
      "4                  NaN                        NaN   \n",
      "...                ...                        ...   \n",
      "12755           calren                        NaN   \n",
      "12756           calren                        NaN   \n",
      "12757              NaN                        NaN   \n",
      "12758              NaN                        NaN   \n",
      "12759  caller9 caller9                        NaN   \n",
      "\n",
      "      review approved user empresa review approved user local  \\\n",
      "0                              NaN                        NaN   \n",
      "1                              NaN                        NaN   \n",
      "2                              NaN                        NaN   \n",
      "3                              NaN                        NaN   \n",
      "4                              NaN                        NaN   \n",
      "...                            ...                        ...   \n",
      "12755                       Google              San Francisco   \n",
      "12756                       Google              San Francisco   \n",
      "12757                          NaN                        NaN   \n",
      "12758                          NaN                        NaN   \n",
      "12759                          NaN                      Texas   \n",
      "\n",
      "       review approved user login  review approved user email  \\\n",
      "0                             NaN                         NaN   \n",
      "1                             NaN                         NaN   \n",
      "2                             NaN                         NaN   \n",
      "3                             NaN                         NaN   \n",
      "4                             NaN                         NaN   \n",
      "...                           ...                         ...   \n",
      "12755                      calren                         NaN   \n",
      "12756                      calren                         NaN   \n",
      "12757                         NaN                         NaN   \n",
      "12758                         NaN                         NaN   \n",
      "12759                     caller9                         NaN   \n",
      "\n",
      "       review approved user seguidores  \n",
      "0                                  NaN  \n",
      "1                                  NaN  \n",
      "2                                  NaN  \n",
      "3                                  NaN  \n",
      "4                                  NaN  \n",
      "...                                ...  \n",
      "12755                            216.0  \n",
      "12756                            216.0  \n",
      "12757                              NaN  \n",
      "12758                              NaN  \n",
      "12759                              3.0  \n",
      "\n",
      "[12760 rows x 40 columns]\n"
     ]
    }
   ],
   "source": [
    "all = pd.concat([aws, azure, spring,google], ignore_index=True)\n",
    "print(all)"
   ]
  },
  {
   "cell_type": "markdown",
   "metadata": {
    "id": "9Ur1d8GXZjQu"
   },
   "source": [
    "## Number of Code Samples"
   ]
  },
  {
   "cell_type": "code",
   "execution_count": 13,
   "metadata": {
    "id": "G4LUCA3xZo9a"
   },
   "outputs": [
    {
     "data": {
      "text/plain": [
       "googlesamples/easypermissions                    82\n",
       "googlesamples/google-services                    68\n",
       "googlesamples/unity-jar-resolver                 50\n",
       "googlesamples/mlkit                              35\n",
       "googlesamples/android-vision                     29\n",
       "googlesamples/android-media-controller           20\n",
       "googlesamples/assistant-sdk-python               20\n",
       "googlesamples/google-signin-unity                13\n",
       "googlesamples/assistant-sdk-cpp                  12\n",
       "googlesamples/android-testdpc                    12\n",
       "googlesamples/android-play-publisher-api         11\n",
       "googlesamples/android-custom-lint-rules          10\n",
       "googlesamples/oauth-apps-for-windows              8\n",
       "googlesamples/android-vulkan-tutorials            8\n",
       "googlesamples/appauth-js-electron-sample          8\n",
       "googlesamples/android-AppUsageStatistics          7\n",
       "googlesamples/identity-toolkit-go                 7\n",
       "googlesamples/android-testing-templates           7\n",
       "googlesamples/android-play-safetynet              6\n",
       "googlesamples/web-fundamentals                    6\n",
       "googlesamples/ios-nearby                          6\n",
       "googlesamples/google-photos                       5\n",
       "googlesamples/io2014-codelabs                     5\n",
       "googlesamples/io2015-codelabs                     5\n",
       "googlesamples/androidtv-sample-inputs             5\n",
       "googlesamples/identity-appflip-tester-android     3\n",
       "googlesamples/glass-enterprise-samples            3\n",
       "googlesamples/identity-appflip-ios                3\n",
       "googlesamples/identity-appflip-android            3\n",
       "googlesamples/mugo                                3\n",
       "googlesamples/ios-vision                          3\n",
       "googlesamples/vulkan-basic-samples                2\n",
       "googlesamples/android-dynamic-code-loading        2\n",
       "googlesamples/functions-as-a-service              2\n",
       "googlesamples/identity-appflip-tester-ios         2\n",
       "googlesamples/identity-toolkit-node               2\n",
       "googlesamples/cloud-polymer-go                    2\n",
       "googlesamples/identity-toolkit-java               2\n",
       "googlesamples/identity-toolkit-php                1\n",
       "googlesamples/assistant-sdk-nodejs                1\n",
       "googlesamples/maps-deckgl-scatterplot-example     1\n",
       "googlesamples/testloopmanager                     1\n",
       "googlesamples/arcore-depth-lab                    1\n",
       "googlesamples/task-interop                        1\n",
       "Name: sample, dtype: int64"
      ]
     },
     "execution_count": 13,
     "metadata": {},
     "output_type": "execute_result"
    }
   ],
   "source": [
    "google[\"sample\"].value_counts()"
   ]
  },
  {
   "cell_type": "code",
   "execution_count": 14,
   "metadata": {
    "colab": {
     "base_uri": "https://localhost:8080/"
    },
    "executionInfo": {
     "elapsed": 6,
     "status": "ok",
     "timestamp": 1659204626592,
     "user": {
      "displayName": "Gabriel Menezes",
      "userId": "04710021433655722253"
     },
     "user_tz": 240
    },
    "id": "Ucy_EXjaKFA6",
    "outputId": "e11fa674-b15e-4394-f659-8e974df66f33"
   },
   "outputs": [
    {
     "data": {
      "text/plain": [
       "44"
      ]
     },
     "execution_count": 14,
     "metadata": {},
     "output_type": "execute_result"
    }
   ],
   "source": [
    "google[\"sample\"].nunique()"
   ]
  },
  {
   "cell_type": "code",
   "execution_count": 15,
   "metadata": {
    "id": "WgMxoqX5Zt4D"
   },
   "outputs": [
    {
     "data": {
      "text/plain": [
       "aws-samples/eks-workshop                                         514\n",
       "aws-samples/aws-cdk-for-k3scluster                               332\n",
       "aws-samples/aws-cdk-examples                                     196\n",
       "aws-samples/serverless-patterns                                  158\n",
       "aws-samples/aws-workshop-for-kubernetes                          138\n",
       "                                                                ... \n",
       "aws-samples/aws-step-functions-twitch-series                       1\n",
       "aws-samples/aws-serverless-auth-workshop                           1\n",
       "aws-samples/kda-flink-app-autoscaling                              1\n",
       "aws-samples/aws-config-track-aged-access-keys                      1\n",
       "aws-samples/aws-healthcare-lifescience-ai-ml-sample-notebooks      1\n",
       "Name: sample, Length: 1047, dtype: int64"
      ]
     },
     "execution_count": 15,
     "metadata": {},
     "output_type": "execute_result"
    }
   ],
   "source": [
    "aws[\"sample\"].value_counts()"
   ]
  },
  {
   "cell_type": "code",
   "execution_count": 16,
   "metadata": {
    "colab": {
     "base_uri": "https://localhost:8080/"
    },
    "executionInfo": {
     "elapsed": 6,
     "status": "ok",
     "timestamp": 1659204626592,
     "user": {
      "displayName": "Gabriel Menezes",
      "userId": "04710021433655722253"
     },
     "user_tz": 240
    },
    "id": "nuYCwdZ0KdUw",
    "outputId": "2c18f31c-77fa-4e24-9fa3-c2b4d3eef956"
   },
   "outputs": [
    {
     "data": {
      "text/plain": [
       "1047"
      ]
     },
     "execution_count": 16,
     "metadata": {},
     "output_type": "execute_result"
    }
   ],
   "source": [
    "aws[\"sample\"].nunique()"
   ]
  },
  {
   "cell_type": "code",
   "execution_count": 17,
   "metadata": {
    "id": "CByrwX29ZuTD"
   },
   "outputs": [
    {
     "data": {
      "text/plain": [
       "Azure-Samples/azure-intelligent-edge-patterns                                  241\n",
       "Azure-Samples/azure-cli-samples                                                113\n",
       "Azure-Samples/html-docs-hello-world                                             98\n",
       "Azure-Samples/openhack-devops-team                                              71\n",
       "Azure-Samples/active-directory-aspnetcore-webapp-openidconnect-v2               70\n",
       "                                                                              ... \n",
       "Azure-Samples/aci-dotnet-create-container-groups-using-private-registry          1\n",
       "Azure-Samples/container-instances-python-manage                                  1\n",
       "Azure-Samples/acr-helloworld                                                     1\n",
       "Azure-Samples/compute-dotnet-manage-resources-from-vm-with-msi-in-aad-group      1\n",
       "Azure-Samples/azure-sql-db-fullstack-serverless-kickstart                        1\n",
       "Name: sample, Length: 1007, dtype: int64"
      ]
     },
     "execution_count": 17,
     "metadata": {},
     "output_type": "execute_result"
    }
   ],
   "source": [
    "azure[\"sample\"].value_counts()"
   ]
  },
  {
   "cell_type": "code",
   "execution_count": 18,
   "metadata": {
    "colab": {
     "base_uri": "https://localhost:8080/"
    },
    "executionInfo": {
     "elapsed": 7,
     "status": "ok",
     "timestamp": 1659204626893,
     "user": {
      "displayName": "Gabriel Menezes",
      "userId": "04710021433655722253"
     },
     "user_tz": 240
    },
    "id": "-4G2IswgKmiQ",
    "outputId": "09379441-53f7-4aa7-a0ba-17e72ed16d24"
   },
   "outputs": [
    {
     "data": {
      "text/plain": [
       "1007"
      ]
     },
     "execution_count": 18,
     "metadata": {},
     "output_type": "execute_result"
    }
   ],
   "source": [
    "azure[\"sample\"].nunique()"
   ]
  },
  {
   "cell_type": "code",
   "execution_count": 19,
   "metadata": {
    "id": "gka-kJBTZukK"
   },
   "outputs": [
    {
     "data": {
      "text/plain": [
       "spring-guides/gs-crud-with-vaadin                   66\n",
       "spring-guides/tut-spring-security-and-angular-js    61\n",
       "spring-guides/gs-rest-service                       49\n",
       "spring-guides/gs-spring-boot                        48\n",
       "spring-guides/tut-spring-boot-oauth2                43\n",
       "                                                    ..\n",
       "spring-guides/spring-guides-ci                       1\n",
       "spring-guides/gs-spring-cloud-dataflow               1\n",
       "spring-guides/gs-spring-cloud-task                   1\n",
       "spring-guides/gs-cloud-circuit-breaker               1\n",
       "spring-guides/tut-spring-webflux-kotlin-rsocket      1\n",
       "Name: sample, Length: 81, dtype: int64"
      ]
     },
     "execution_count": 19,
     "metadata": {},
     "output_type": "execute_result"
    }
   ],
   "source": [
    "spring[\"sample\"].value_counts()"
   ]
  },
  {
   "cell_type": "code",
   "execution_count": 20,
   "metadata": {
    "colab": {
     "base_uri": "https://localhost:8080/"
    },
    "executionInfo": {
     "elapsed": 6,
     "status": "ok",
     "timestamp": 1659204626894,
     "user": {
      "displayName": "Gabriel Menezes",
      "userId": "04710021433655722253"
     },
     "user_tz": 240
    },
    "id": "KRTJ7dGxKwD0",
    "outputId": "ca49a580-2855-47d5-836c-3f6050c84c45"
   },
   "outputs": [
    {
     "data": {
      "text/plain": [
       "81"
      ]
     },
     "execution_count": 20,
     "metadata": {},
     "output_type": "execute_result"
    }
   ],
   "source": [
    "spring[\"sample\"].nunique()"
   ]
  },
  {
   "cell_type": "code",
   "execution_count": 21,
   "metadata": {
    "id": "9voReb3UZSmM"
   },
   "outputs": [
    {
     "data": {
      "text/plain": [
       "aws-samples/eks-workshop                                                              514\n",
       "aws-samples/aws-cdk-for-k3scluster                                                    332\n",
       "Azure-Samples/azure-intelligent-edge-patterns                                         241\n",
       "aws-samples/aws-cdk-examples                                                          196\n",
       "aws-samples/serverless-patterns                                                       158\n",
       "                                                                                     ... \n",
       "Azure-Samples/media-services-dotnet-on-demand-encoding-with-media-encoder-standard      1\n",
       "Azure-Samples/media-services-dotnet-encode-live-stream-with-ams-clear                   1\n",
       "Azure-Samples/billing-dotnet-usage-api                                                  1\n",
       "Azure-Samples/iot-hub-c-mbed-temperature-anomaly                                        1\n",
       "googlesamples/task-interop                                                              1\n",
       "Name: sample, Length: 2179, dtype: int64"
      ]
     },
     "execution_count": 21,
     "metadata": {},
     "output_type": "execute_result"
    }
   ],
   "source": [
    "all[\"sample\"].value_counts()"
   ]
  },
  {
   "cell_type": "markdown",
   "metadata": {
    "id": "XsMFEJhru4KR"
   },
   "source": [
    "## Analysis at Pull Request level"
   ]
  },
  {
   "cell_type": "markdown",
   "metadata": {
    "id": "CEP1tLRjyUy-"
   },
   "source": [
    "### Pulls Open X Pulls Closed"
   ]
  },
  {
   "cell_type": "code",
   "execution_count": 22,
   "metadata": {
    "colab": {
     "base_uri": "https://localhost:8080/"
    },
    "executionInfo": {
     "elapsed": 279,
     "status": "ok",
     "timestamp": 1659204628814,
     "user": {
      "displayName": "Gabriel Menezes",
      "userId": "04710021433655722253"
     },
     "user_tz": 240
    },
    "id": "tKfGI2EgyY0_",
    "outputId": "1adea506-5ab3-409a-ed60-a46c1545e89c"
   },
   "outputs": [
    {
     "data": {
      "text/plain": [
       "closed    360\n",
       "open      123\n",
       "Name: status, dtype: int64"
      ]
     },
     "execution_count": 22,
     "metadata": {},
     "output_type": "execute_result"
    }
   ],
   "source": [
    "google[\"status\"].value_counts()"
   ]
  },
  {
   "cell_type": "code",
   "execution_count": 23,
   "metadata": {
    "colab": {
     "base_uri": "https://localhost:8080/"
    },
    "executionInfo": {
     "elapsed": 15,
     "status": "ok",
     "timestamp": 1659204628815,
     "user": {
      "displayName": "Gabriel Menezes",
      "userId": "04710021433655722253"
     },
     "user_tz": 240
    },
    "id": "GgRTqHFvyf6O",
    "outputId": "7abd8c53-828d-4b81-9c39-2e8c9a207b6e"
   },
   "outputs": [
    {
     "data": {
      "text/plain": [
       "closed    5028\n",
       "open      1166\n",
       "Name: status, dtype: int64"
      ]
     },
     "execution_count": 23,
     "metadata": {},
     "output_type": "execute_result"
    }
   ],
   "source": [
    "aws[\"status\"].value_counts()"
   ]
  },
  {
   "cell_type": "code",
   "execution_count": 24,
   "metadata": {
    "colab": {
     "base_uri": "https://localhost:8080/"
    },
    "executionInfo": {
     "elapsed": 14,
     "status": "ok",
     "timestamp": 1659204628816,
     "user": {
      "displayName": "Gabriel Menezes",
      "userId": "04710021433655722253"
     },
     "user_tz": 240
    },
    "id": "8aK-rlFPyi5e",
    "outputId": "f3c8fc97-164b-4461-f88b-a2770245d5f5"
   },
   "outputs": [
    {
     "data": {
      "text/plain": [
       "closed    3354\n",
       "open      1579\n",
       "Name: status, dtype: int64"
      ]
     },
     "execution_count": 24,
     "metadata": {},
     "output_type": "execute_result"
    }
   ],
   "source": [
    "azure[\"status\"].value_counts()"
   ]
  },
  {
   "cell_type": "code",
   "execution_count": 25,
   "metadata": {
    "colab": {
     "base_uri": "https://localhost:8080/"
    },
    "executionInfo": {
     "elapsed": 13,
     "status": "ok",
     "timestamp": 1659204628816,
     "user": {
      "displayName": "Gabriel Menezes",
      "userId": "04710021433655722253"
     },
     "user_tz": 240
    },
    "id": "bUaZN2LQymQX",
    "outputId": "5d7024d2-cddf-4920-c784-72de98f9f4cc"
   },
   "outputs": [
    {
     "data": {
      "text/plain": [
       "closed    1000\n",
       "open       150\n",
       "Name: status, dtype: int64"
      ]
     },
     "execution_count": 25,
     "metadata": {},
     "output_type": "execute_result"
    }
   ],
   "source": [
    "spring[\"status\"].value_counts()"
   ]
  },
  {
   "cell_type": "code",
   "execution_count": 26,
   "metadata": {
    "colab": {
     "base_uri": "https://localhost:8080/"
    },
    "executionInfo": {
     "elapsed": 12,
     "status": "ok",
     "timestamp": 1659204628816,
     "user": {
      "displayName": "Gabriel Menezes",
      "userId": "04710021433655722253"
     },
     "user_tz": 240
    },
    "id": "Ls5lZvNUzkMe",
    "outputId": "1c070215-c8e9-4c64-f907-924fcf8ac953"
   },
   "outputs": [
    {
     "data": {
      "text/plain": [
       "closed    9742\n",
       "open      3018\n",
       "Name: status, dtype: int64"
      ]
     },
     "execution_count": 26,
     "metadata": {},
     "output_type": "execute_result"
    }
   ],
   "source": [
    "all[\"status\"].value_counts()"
   ]
  },
  {
   "cell_type": "markdown",
   "metadata": {
    "id": "iFJia1ZVzyJ1"
   },
   "source": [
    "### Pulls Merged x Not Merged"
   ]
  },
  {
   "cell_type": "code",
   "execution_count": 27,
   "metadata": {
    "id": "OC5Z2HMYz5oW"
   },
   "outputs": [],
   "source": [
    "google_closed = google[google[\"status\"] == \"closed\"]\n",
    "aws_closed = aws[aws[\"status\"] == \"closed\"]\n",
    "azure_closed = azure[azure[\"status\"] == \"closed\"]\n",
    "spring_closed = spring[spring[\"status\"] == \"closed\"]\n",
    "all_closed = all[all[\"status\"] == \"closed\"]"
   ]
  },
  {
   "cell_type": "code",
   "execution_count": 28,
   "metadata": {
    "colab": {
     "base_uri": "https://localhost:8080/"
    },
    "executionInfo": {
     "elapsed": 12,
     "status": "ok",
     "timestamp": 1659204628817,
     "user": {
      "displayName": "Gabriel Menezes",
      "userId": "04710021433655722253"
     },
     "user_tz": 240
    },
    "id": "kmFhVNMMuFXK",
    "outputId": "eee91695-8620-4262-ad47-4ee88dbfef5d"
   },
   "outputs": [
    {
     "data": {
      "text/plain": [
       "True     292\n",
       "False     68\n",
       "Name: merged, dtype: int64"
      ]
     },
     "execution_count": 28,
     "metadata": {},
     "output_type": "execute_result"
    }
   ],
   "source": [
    "google_closed[\"merged\"].value_counts()"
   ]
  },
  {
   "cell_type": "code",
   "execution_count": 29,
   "metadata": {
    "colab": {
     "base_uri": "https://localhost:8080/"
    },
    "executionInfo": {
     "elapsed": 12,
     "status": "ok",
     "timestamp": 1659204628818,
     "user": {
      "displayName": "Gabriel Menezes",
      "userId": "04710021433655722253"
     },
     "user_tz": 240
    },
    "id": "n86XYDFi02zF",
    "outputId": "41744d87-692e-4d2f-fdd0-55fce1dc8036"
   },
   "outputs": [
    {
     "data": {
      "text/plain": [
       "True     4422\n",
       "False     606\n",
       "Name: merged, dtype: int64"
      ]
     },
     "execution_count": 29,
     "metadata": {},
     "output_type": "execute_result"
    }
   ],
   "source": [
    "aws_closed[\"merged\"].value_counts()"
   ]
  },
  {
   "cell_type": "code",
   "execution_count": 30,
   "metadata": {
    "colab": {
     "base_uri": "https://localhost:8080/"
    },
    "executionInfo": {
     "elapsed": 11,
     "status": "ok",
     "timestamp": 1659204628818,
     "user": {
      "displayName": "Gabriel Menezes",
      "userId": "04710021433655722253"
     },
     "user_tz": 240
    },
    "id": "nvvlxfyb073d",
    "outputId": "9087051f-570d-4009-b7cb-f8347de8a16e"
   },
   "outputs": [
    {
     "data": {
      "text/plain": [
       "True     2901\n",
       "False     453\n",
       "Name: merged, dtype: int64"
      ]
     },
     "execution_count": 30,
     "metadata": {},
     "output_type": "execute_result"
    }
   ],
   "source": [
    "azure_closed[\"merged\"].value_counts()"
   ]
  },
  {
   "cell_type": "code",
   "execution_count": 31,
   "metadata": {
    "colab": {
     "base_uri": "https://localhost:8080/"
    },
    "executionInfo": {
     "elapsed": 10,
     "status": "ok",
     "timestamp": 1659204628818,
     "user": {
      "displayName": "Gabriel Menezes",
      "userId": "04710021433655722253"
     },
     "user_tz": 240
    },
    "id": "VpMnpyiE0-x1",
    "outputId": "5ce903c1-cb0c-4fa0-bd1c-2a56c62d860c"
   },
   "outputs": [
    {
     "data": {
      "text/plain": [
       "True     705\n",
       "False    295\n",
       "Name: merged, dtype: int64"
      ]
     },
     "execution_count": 31,
     "metadata": {},
     "output_type": "execute_result"
    }
   ],
   "source": [
    "spring_closed[\"merged\"].value_counts()"
   ]
  },
  {
   "cell_type": "code",
   "execution_count": 32,
   "metadata": {
    "colab": {
     "base_uri": "https://localhost:8080/"
    },
    "executionInfo": {
     "elapsed": 10,
     "status": "ok",
     "timestamp": 1659204628819,
     "user": {
      "displayName": "Gabriel Menezes",
      "userId": "04710021433655722253"
     },
     "user_tz": 240
    },
    "id": "oV14casu1DDs",
    "outputId": "6fc42892-fc32-4b64-db75-6bc2aa94f081"
   },
   "outputs": [
    {
     "data": {
      "text/plain": [
       "True     8320\n",
       "False    1422\n",
       "Name: merged, dtype: int64"
      ]
     },
     "execution_count": 32,
     "metadata": {},
     "output_type": "execute_result"
    }
   ],
   "source": [
    "all_closed[\"merged\"].value_counts()"
   ]
  },
  {
   "cell_type": "markdown",
   "metadata": {
    "id": "IuY2xdaC3aRU"
   },
   "source": [
    "## Analysis at code sample level"
   ]
  },
  {
   "cell_type": "code",
   "execution_count": 33,
   "metadata": {
    "id": "aVxRUNEX3efd"
   },
   "outputs": [],
   "source": [
    "def set_index(dataframe):\n",
    "  dataframe.set_index(dataframe[\"sample\"], inplace=True)\n",
    "  del dataframe[\"sample\"]"
   ]
  },
  {
   "cell_type": "code",
   "execution_count": 34,
   "metadata": {
    "id": "BWVN7zLd1qwA"
   },
   "outputs": [],
   "source": [
    "set_index(google)\n",
    "set_index(aws)\n",
    "set_index(azure)\n",
    "set_index(spring)"
   ]
  },
  {
   "cell_type": "code",
   "execution_count": 35,
   "metadata": {
    "id": "B7djS8e2eLsy"
   },
   "outputs": [],
   "source": [
    "def calculate_stats(dataframe):\n",
    "  for sample in dataframe.index.unique():\n",
    "    aux = dataframe.loc[[sample]]\n",
    "    dataframe.loc[sample, \"closed_count\"] = aux[aux[\"status\"] == \"closed\"][\"framework\"].count()\n",
    "    dataframe.loc[sample, \"open_count\"] = aux[aux[\"status\"] == \"open\"][\"framework\"].count()\n",
    "    dataframe.loc[sample, \"merged_count\"] = aux[aux[\"merged\"] == True][\"framework\"].count()\n",
    "    aux2 = aux[aux[\"status\"] == \"closed\"]\n",
    "    dataframe.loc[sample, \"not_merged_count\"] = aux2[aux2[\"merged\"] == False][\"framework\"].count()"
   ]
  },
  {
   "cell_type": "code",
   "execution_count": 36,
   "metadata": {
    "id": "evlae8PgTUwu"
   },
   "outputs": [],
   "source": [
    "calculate_stats(google)\n",
    "calculate_stats(aws)\n",
    "calculate_stats(azure)\n",
    "calculate_stats(spring)"
   ]
  },
  {
   "cell_type": "code",
   "execution_count": 37,
   "metadata": {
    "id": "8lBC1vRM-c5a"
   },
   "outputs": [],
   "source": [
    "def aggregate(dataframe, framework):\n",
    "    dataframe[\"framework\"] = framework\n",
    "    del dataframe[\"merge user cargo\"]\n",
    "    del dataframe[\"merged\"]\n",
    "    del dataframe[\"merge user seguidores\"]\n",
    "    del dataframe[\"merge user tempo no GitHub\"]\n",
    "    del dataframe[\"creator user cargo\"]\n",
    "    del dataframe[\"creator user seguidores\"]\n",
    "    del dataframe[\"creator user tempo no GitHub\"]\n",
    "    del dataframe[\"closed user cargo\"]\n",
    "    del dataframe[\"closed user seguidores\"]\n",
    "    del dataframe[\"total de reviews\"]\n",
    "    del dataframe[\"review approved user cargo\"]\n",
    "    del dataframe[\"review approved user seguidores\"]\n",
    "    dataframe = dataframe.groupby(by=\"sample\").mean()\n",
    "  \n",
    "    return dataframe"
   ]
  },
  {
   "cell_type": "code",
   "execution_count": 38,
   "metadata": {
    "id": "nkEmrMnC63iD"
   },
   "outputs": [],
   "source": [
    "google = aggregate(google, \"Android\")"
   ]
  },
  {
   "cell_type": "code",
   "execution_count": 39,
   "metadata": {
    "id": "o9UMyJsH63Sv"
   },
   "outputs": [],
   "source": [
    "aws = aggregate(aws, \"AWS\")"
   ]
  },
  {
   "cell_type": "code",
   "execution_count": 40,
   "metadata": {
    "id": "KiOsKBFSzRro"
   },
   "outputs": [],
   "source": [
    "azure = aggregate(azure, \"Azure\")"
   ]
  },
  {
   "cell_type": "code",
   "execution_count": 41,
   "metadata": {
    "id": "j4GnPRrw9Bmx"
   },
   "outputs": [],
   "source": [
    "spring = aggregate(spring, \"Spring\")"
   ]
  },
  {
   "cell_type": "code",
   "execution_count": 42,
   "metadata": {
    "id": "s1iIkweHDmIH"
   },
   "outputs": [],
   "source": [
    "google[\"framework\"] = \"Android\"\n",
    "aws[\"framework\"] = \"AWS\"\n",
    "azure[\"framework\"] = \"Azure\"\n",
    "spring[\"framework\"] = \"Spring\""
   ]
  },
  {
   "cell_type": "code",
   "execution_count": 43,
   "metadata": {
    "id": "2TWyLDcWDmIH"
   },
   "outputs": [],
   "source": [
    "def relative_metrics(dataframe):\n",
    "    dataframe[\"relative_open_count\"] = (dataframe[\"open_count\"] / (dataframe[\"open_count\"] + dataframe[\"closed_count\"])) * 100\n",
    "    dataframe[\"relative_closed_count\"] = (dataframe[\"closed_count\"] / (dataframe[\"open_count\"] + dataframe[\"closed_count\"])) * 100\n",
    "    dataframe[\"relative_merged\"] = (dataframe[\"merged_count\"] / dataframe[\"closed_count\"]) * 100\n",
    "    dataframe[\"relative_not_merged\"] = (dataframe[\"not_merged_count\"] / dataframe[\"closed_count\"]) * 100\n",
    "    return dataframe"
   ]
  },
  {
   "cell_type": "code",
   "execution_count": 44,
   "metadata": {
    "id": "5hevAUBBDmIH"
   },
   "outputs": [],
   "source": [
    "google = relative_metrics(google)\n",
    "aws = relative_metrics(aws)\n",
    "azure = relative_metrics(azure)\n",
    "spring = relative_metrics(spring)"
   ]
  },
  {
   "cell_type": "code",
   "execution_count": 45,
   "metadata": {
    "id": "tsuyWsYc9O8O"
   },
   "outputs": [],
   "source": [
    "google.to_csv(\"../2-AggregateData/google2022_exclude_inside.csv\")"
   ]
  },
  {
   "cell_type": "code",
   "execution_count": 46,
   "metadata": {
    "id": "rqlGpvoRDxmz"
   },
   "outputs": [],
   "source": [
    "aws.to_csv(\"../2-AggregateData/aws2022_exclude_inside.csv\")"
   ]
  },
  {
   "cell_type": "code",
   "execution_count": 47,
   "metadata": {
    "id": "bghCAqTdDxaW"
   },
   "outputs": [],
   "source": [
    "azure.to_csv(\"../2-AggregateData/azure2022_exclude_inside.csv\")"
   ]
  },
  {
   "cell_type": "code",
   "execution_count": 48,
   "metadata": {
    "id": "dzK-YctYDxGq"
   },
   "outputs": [],
   "source": [
    "spring.to_csv(\"../2-AggregateData/spring2022_exclude_inside.csv\")"
   ]
  },
  {
   "cell_type": "code",
   "execution_count": null,
   "metadata": {},
   "outputs": [],
   "source": []
  }
 ],
 "metadata": {
  "colab": {
   "collapsed_sections": [
    "9Ur1d8GXZjQu",
    "XsMFEJhru4KR"
   ],
   "name": "AgregarDados.ipynb",
   "provenance": []
  },
  "kernelspec": {
   "display_name": "Python 3 (ipykernel)",
   "language": "python",
   "name": "python3"
  },
  "language_info": {
   "codemirror_mode": {
    "name": "ipython",
    "version": 3
   },
   "file_extension": ".py",
   "mimetype": "text/x-python",
   "name": "python",
   "nbconvert_exporter": "python",
   "pygments_lexer": "ipython3",
   "version": "3.9.12"
  }
 },
 "nbformat": 4,
 "nbformat_minor": 4
}
