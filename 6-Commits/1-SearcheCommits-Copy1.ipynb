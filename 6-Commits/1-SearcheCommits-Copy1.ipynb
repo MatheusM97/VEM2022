{
 "cells": [
  {
   "cell_type": "code",
   "execution_count": 1,
   "metadata": {
    "colab": {
     "base_uri": "https://localhost:8080/"
    },
    "executionInfo": {
     "elapsed": 4096,
     "status": "ok",
     "timestamp": 1648679188664,
     "user": {
      "displayName": "Matheus M",
      "userId": "05134529566023456929"
     },
     "user_tz": 180
    },
    "id": "L1Q1ioCir9Xy",
    "outputId": "d667cf59-e3c4-4c17-d5d2-cfcff993210c"
   },
   "outputs": [
    {
     "name": "stdout",
     "output_type": "stream",
     "text": [
      "Requirement already satisfied: pydriller in c:\\users\\mathe\\anaconda3\\lib\\site-packages (2.1)\n",
      "Requirement already satisfied: gitpython in c:\\users\\mathe\\anaconda3\\lib\\site-packages (from pydriller) (3.1.27)\n",
      "Requirement already satisfied: types-pytz in c:\\users\\mathe\\anaconda3\\lib\\site-packages (from pydriller) (2022.2.1.0)\n",
      "Requirement already satisfied: lizard in c:\\users\\mathe\\anaconda3\\lib\\site-packages (from pydriller) (1.17.10)\n",
      "Requirement already satisfied: pytz in c:\\users\\mathe\\anaconda3\\lib\\site-packages (from pydriller) (2021.3)\n",
      "Requirement already satisfied: gitdb<5,>=4.0.1 in c:\\users\\mathe\\anaconda3\\lib\\site-packages (from gitpython->pydriller) (4.0.9)\n",
      "Requirement already satisfied: smmap<6,>=3.0.1 in c:\\users\\mathe\\anaconda3\\lib\\site-packages (from gitdb<5,>=4.0.1->gitpython->pydriller) (5.0.0)\n",
      "Note: you may need to restart the kernel to use updated packages.\n"
     ]
    }
   ],
   "source": [
    "pip install pydriller"
   ]
  },
  {
   "cell_type": "code",
   "execution_count": 2,
   "metadata": {
    "colab": {
     "base_uri": "https://localhost:8080/"
    },
    "executionInfo": {
     "elapsed": 1286,
     "status": "ok",
     "timestamp": 1648680008960,
     "user": {
      "displayName": "Matheus M",
      "userId": "05134529566023456929"
     },
     "user_tz": 180
    },
    "id": "mxAqNFEyoY_W",
    "outputId": "3e3a0e05-5c53-4ccf-c31e-e7ce4f75e146"
   },
   "outputs": [],
   "source": [
    "from datetime import datetime\n",
    "from pydriller import Repository\n",
    "import logging\n",
    "import pandas as pd\n",
    "import math\n",
    "global commits\n",
    "commitsList = []"
   ]
  },
  {
   "cell_type": "code",
   "execution_count": 3,
   "metadata": {},
   "outputs": [],
   "source": [
    "def getAllCommits(sample,framework):\n",
    "    try:\n",
    "        print(sample)\n",
    "        for commit in Repository('https://github.com/'+sample+'.git').traverse_commits():\n",
    "            objectCommit = {\n",
    "                            \"Framework\" : framework,\n",
    "                            \"Sample\" : sample,\n",
    "                            \"Hash\" : commit.hash,\n",
    "                            \"msg\" : commit.msg,\n",
    "                            \"Author_name\" : commit.author.name,\n",
    "                            \"Author_email\" : commit.author.email,\n",
    "                            #\"Author_login\" : commit.author.login,\n",
    "                            \"Committer_name\" : commit.committer.name,\n",
    "                            \"Committer_email\" : commit.committer.email,\n",
    "                            #\"Committer_login\" : commit.committer.login,\n",
    "                            \"Author_date\" : commit.author_date,\n",
    "                            \"Author_timezone\" : commit.author_timezone,\n",
    "                            \"Commiter_date\" : commit.committer_date,\n",
    "                            \"Commiter_timezone\" : commit.committer_timezone,\n",
    "                            \"Branches\" : commit.branches,\n",
    "                            \"In_main_branch\" : commit.in_main_branch,\n",
    "                            \"Merge\" : commit.merge,\n",
    "                            \"Modified_files\" : commit.modified_files,\n",
    "                            \"Parents\" : commit.parents,\n",
    "                            \"Project_name\" : commit.project_name,\n",
    "                            \"Project_path\" : commit.project_path,\n",
    "                            \"Deletions\" : commit.deletions,\n",
    "                            \"Insertions\" : commit.insertions,\n",
    "                            \"Lines\" : commit.lines,\n",
    "                            \"Files\"  : commit.files,\n",
    "                            \"Dmm_unit_size\" : commit.dmm_unit_size,\n",
    "                            \"Dmm_unit_complexity\" : commit.dmm_unit_complexity,\n",
    "                            \"Dmm_unit_interfacing\" : commit.dmm_unit_interfacing\n",
    "            }\n",
    "\n",
    "            commitsList.append(objectCommit) \n",
    "    except BaseException:\n",
    "        logging.exception(\"An exception was thrown!\")\n"
   ]
  },
  {
   "cell_type": "code",
   "execution_count": 4,
   "metadata": {
    "id": "jkuEXKOeos8d"
   },
   "outputs": [],
   "source": [
    "def export(dataframe):\n",
    "  dataframe.to_csv(\"../6-Commits/awsCommitspart5.csv\")"
   ]
  },
  {
   "cell_type": "code",
   "execution_count": 5,
   "metadata": {
    "id": "JMUvDdHiqYOh"
   },
   "outputs": [],
   "source": [
    "def main():\n",
    "  samples = pd.read_csv(\"../0-SearcheCodeSamples/aws-samples2022.csv\", names=[\"sample\"], skiprows = 900, nrows = 400)\n",
    "  #data = pd.DataFrame(columns = [\"repository\",\"fileContribuiting\"])\n",
    "  #dataframe = pd.DataFrame(columns=[\"framework\",\"sample\",\"link\",\"data de criação\",\"data de fechamento\"\n",
    "   #                               ,\"tempo para fechamento\",\"tempo merge\",\"data merge\",\"data de atualização\",\n",
    "   #                               \"merged\",\"titulo\",\"status\", \"merge user cargo\",\"merge user empresa\",\n",
    "   #                               \"merge user local\", \"merge user login\",\"merge user email\",\"merge user seguidores\",\n",
    "   #                               \"merge user tempo no GitHub\"])\n",
    "  \n",
    "  print(samples.size)\n",
    " \n",
    "  for sample in samples[\"sample\"]:\n",
    "    framework = sample.split(\"/\")\n",
    "    framework = framework[0]\n",
    "    getAllCommits(sample,framework)\n",
    "    #listContent.append(content)\n",
    "    \n",
    "    #pulls = getAllPullRequests(sample, framework)\n",
    "    #dataframe = getDataframe(dataframe, sample, pulls)\n",
    "  #create dataframe\n",
    "  data = pd.DataFrame(commitsList)\n",
    "  \n",
    "  export(data) \n",
    "  \n"
   ]
  },
  {
   "cell_type": "code",
   "execution_count": null,
   "metadata": {
    "id": "xoqDRHB5p3eB"
   },
   "outputs": [
    {
     "name": "stdout",
     "output_type": "stream",
     "text": [
      "400\n",
      "aws-samples/aws-digital-content-creation-render-environment\n",
      "aws-samples/aws-control-tower-securityhub-enabler\n",
      "aws-samples/aws-control-tower-guardduty-enabler\n",
      "aws-samples/eks-spark-benchmark\n",
      "aws-samples/aws-batch-comp-infrastructure-sample\n",
      "aws-samples/digital-user-engagement-reference-architectures\n",
      "aws-samples/aws-serverless-app-sam-cdk\n",
      "aws-samples/aws-app-mesh-cloudwatch-agent\n",
      "aws-samples/amazon-elasticsearch-intro-workshop\n",
      "aws-samples/aws-serverless-application-catalog-workshop\n",
      "aws-samples/build-a-360-degree-customer-view-with-aws\n",
      "aws-samples/amazon-forecast-automation\n",
      "aws-samples/aws-iot-core-https-x509certificate-python-node\n",
      "aws-samples/aws-deeplens-recipes\n"
     ]
    },
    {
     "name": "stderr",
     "output_type": "stream",
     "text": [
      "ERROR:root:An exception was thrown!\n",
      "Traceback (most recent call last):\n",
      "  File \"C:\\Users\\mathe\\AppData\\Local\\Temp\\ipykernel_15452\\1746959271.py\", line 23, in getAllCommits\n",
      "    \"Modified_files\" : commit.modified_files,\n",
      "  File \"C:\\Users\\mathe\\anaconda3\\lib\\site-packages\\pydriller\\domain\\commit.py\", line 667, in modified_files\n",
      "    self._modified_files = self._get_modified_files()\n",
      "  File \"C:\\Users\\mathe\\anaconda3\\lib\\site-packages\\pydriller\\domain\\commit.py\", line 682, in _get_modified_files\n",
      "    diff_index = self._c_object.parents[0].diff(\n",
      "  File \"C:\\Users\\mathe\\anaconda3\\lib\\site-packages\\git\\diff.py\", line 175, in diff\n",
      "    index = diff_method(self.repo, proc)\n",
      "  File \"C:\\Users\\mathe\\anaconda3\\lib\\site-packages\\git\\diff.py\", line 487, in _index_from_patch_format\n",
      "    index.append(Diff(repo,\n",
      "  File \"C:\\Users\\mathe\\anaconda3\\lib\\site-packages\\git\\diff.py\", line 309, in __init__\n",
      "    for submodule in repo.submodules:\n",
      "  File \"C:\\Users\\mathe\\anaconda3\\lib\\site-packages\\git\\repo\\base.py\", line 368, in submodules\n",
      "    return Submodule.list_items(self)\n",
      "  File \"C:\\Users\\mathe\\anaconda3\\lib\\site-packages\\git\\util.py\", line 1103, in list_items\n",
      "    out_list.extend(cls.iter_items(repo, *args, **kwargs))\n",
      "  File \"C:\\Users\\mathe\\anaconda3\\lib\\site-packages\\git\\objects\\submodule\\base.py\", line 1266, in iter_items\n",
      "    sm._name = n\n",
      "AttributeError: 'Tree' object has no attribute '_name'\n"
     ]
    },
    {
     "name": "stdout",
     "output_type": "stream",
     "text": [
      "aws-samples/aws-cicd-patch-management-terraform\n"
     ]
    }
   ],
   "source": [
    "if __name__ == \"__main__\":\n",
    "    main()"
   ]
  },
  {
   "cell_type": "code",
   "execution_count": null,
   "metadata": {},
   "outputs": [],
   "source": []
  },
  {
   "cell_type": "code",
   "execution_count": null,
   "metadata": {},
   "outputs": [],
   "source": []
  }
 ],
 "metadata": {
  "colab": {
   "collapsed_sections": [],
   "name": "1-BuscandoPullsRequestMerge.ipynb",
   "provenance": []
  },
  "kernelspec": {
   "display_name": "Python 3 (ipykernel)",
   "language": "python",
   "name": "python3"
  },
  "language_info": {
   "codemirror_mode": {
    "name": "ipython",
    "version": 3
   },
   "file_extension": ".py",
   "mimetype": "text/x-python",
   "name": "python",
   "nbconvert_exporter": "python",
   "pygments_lexer": "ipython3",
   "version": "3.9.12"
  }
 },
 "nbformat": 4,
 "nbformat_minor": 4
}
